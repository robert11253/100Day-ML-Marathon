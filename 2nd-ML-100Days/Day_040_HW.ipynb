{
 "cells": [
  {
   "cell_type": "markdown",
   "metadata": {},
   "source": [
    "## [作業重點]\n",
    "使用 Sklearn 中的 Lasso, Ridge 模型，來訓練各種資料集，務必了解送進去模型訓練的**資料型態**為何，也請了解模型中各項參數的意義。\n",
    "\n",
    "機器學習的模型非常多種，但要訓練的資料多半有固定的格式，確保你了解訓練資料的格式為何，這樣在應用新模型時，就能夠最快的上手開始訓練！"
   ]
  },
  {
   "cell_type": "markdown",
   "metadata": {},
   "source": [
    "## 練習時間\n",
    "試著使用 sklearn datasets 的其他資料集 (boston, ...)，來訓練自己的線性迴歸模型，並加上適當的正則話來觀察訓練情形。"
   ]
  },
  {
   "cell_type": "code",
   "execution_count": 1,
   "metadata": {
    "collapsed": true
   },
   "outputs": [],
   "source": [
    "from sklearn import datasets\n",
    "from sklearn.model_selection import train_test_split\n",
    "from sklearn.preprocessing import LabelBinarizer\n",
    "from sklearn.preprocessing import StandardScaler\n",
    "from sklearn.linear_model import LinearRegression\n",
    "import matplotlib.pyplot as plt\n",
    "import seaborn as sns\n",
    "import numpy as np\n",
    "import pandas as pd\n",
    "\n",
    "boston = datasets.load_boston()\n",
    "X = boston.data\n",
    "y = boston.target\n",
    "X_train, X_test, y_train, y_test = train_test_split(X, y, test_size = 0.2, random_state = 0)"
   ]
  },
  {
   "cell_type": "code",
   "execution_count": 2,
   "metadata": {},
   "outputs": [
    {
     "name": "stdout",
     "output_type": "stream",
     "text": [
      "[ -1.18410318e-01   4.47550643e-02   5.85674689e-03   2.34230117e+00\n",
      "  -1.61634024e+01   3.70135143e+00  -3.04553661e-03  -1.38664542e+00\n",
      "   2.43784171e-01  -1.09856157e-02  -1.04699133e+00   8.22014729e-03\n",
      "  -4.93642452e-01]\n"
     ]
    }
   ],
   "source": [
    "# Normal Regression\n",
    "regressor_normal = LinearRegression()\n",
    "regressor_normal.fit(X_train, y_train)\n",
    "print(regressor_normal.coef_) # 印出訓練後的模型參數"
   ]
  },
  {
   "cell_type": "code",
   "execution_count": 3,
   "metadata": {},
   "outputs": [
    {
     "name": "stdout",
     "output_type": "stream",
     "text": [
      "[-0.          0.02936267 -0.          0.         -0.          0.         -0.\n",
      " -0.          0.         -0.014734   -0.          0.00976166 -0.28261586]\n"
     ]
    }
   ],
   "source": [
    "# Lasso Regression \n",
    "from sklearn.linear_model import Lasso\n",
    "regressor_lasso = Lasso(alpha = 20.)\n",
    "regressor_lasso.fit(X, y)\n",
    "print(regressor_lasso.coef_) # 印出訓練後的模型參數"
   ]
  },
  {
   "cell_type": "code",
   "execution_count": 4,
   "metadata": {},
   "outputs": [
    {
     "name": "stdout",
     "output_type": "stream",
     "text": [
      "[-0.10060401  0.05065136 -0.04698636  1.57414364 -1.27135531  3.47559439\n",
      " -0.00941967 -1.22949444  0.28487392 -0.01444316 -0.79939841  0.01007353\n",
      " -0.57847453]\n"
     ]
    }
   ],
   "source": [
    "# Ridge Regression \n",
    "from sklearn.linear_model import Ridge\n",
    "regressor_ridge = Ridge(alpha = 20.)\n",
    "regressor_ridge.fit(X, y)\n",
    "print(regressor_ridge.coef_) # 印出訓練後的模型參數"
   ]
  },
  {
   "cell_type": "code",
   "execution_count": null,
   "metadata": {
    "collapsed": true
   },
   "outputs": [],
   "source": []
  }
 ],
 "metadata": {
  "kernelspec": {
   "display_name": "Python 3",
   "language": "python",
   "name": "python3"
  },
  "language_info": {
   "codemirror_mode": {
    "name": "ipython",
    "version": 3
   },
   "file_extension": ".py",
   "mimetype": "text/x-python",
   "name": "python",
   "nbconvert_exporter": "python",
   "pygments_lexer": "ipython3",
   "version": "3.6.7"
  },
  "toc": {
   "base_numbering": 1,
   "nav_menu": {},
   "number_sections": true,
   "sideBar": true,
   "skip_h1_title": false,
   "title_cell": "Table of Contents",
   "title_sidebar": "Contents",
   "toc_cell": false,
   "toc_position": {},
   "toc_section_display": true,
   "toc_window_display": false
  }
 },
 "nbformat": 4,
 "nbformat_minor": 2
}
