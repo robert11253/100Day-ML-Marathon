{
 "cells": [
  {
   "cell_type": "markdown",
   "metadata": {},
   "source": [
    "## Work\n",
    "1. 試改變 monitor \"Validation Accuracy\" 並比較結果\n",
    "2. 調整 earlystop 的等待次數至 10, 25 並比較結果"
   ]
  },
  {
   "cell_type": "code",
   "execution_count": 1,
   "metadata": {},
   "outputs": [
    {
     "name": "stderr",
     "output_type": "stream",
     "text": [
      "/Users/robertlai/anaconda3/lib/python3.6/site-packages/h5py/__init__.py:34: FutureWarning: Conversion of the second argument of issubdtype from `float` to `np.floating` is deprecated. In future, it will be treated as `np.float64 == np.dtype(float).type`.\n",
      "  from ._conv import register_converters as _register_converters\n",
      "Using TensorFlow backend.\n"
     ]
    }
   ],
   "source": [
    "import os\n",
    "import keras\n",
    "import matplotlib.pyplot as plt\n",
    "%matplotlib inline\n",
    "\n",
    "\n",
    "# Disable GPU\n",
    "os.environ[\"CUDA_VISIBLE_DEVICES\"] = \"\""
   ]
  },
  {
   "cell_type": "code",
   "execution_count": 2,
   "metadata": {
    "collapsed": true
   },
   "outputs": [],
   "source": [
    "train, test = keras.datasets.cifar10.load_data()"
   ]
  },
  {
   "cell_type": "code",
   "execution_count": 3,
   "metadata": {
    "collapsed": true
   },
   "outputs": [],
   "source": [
    "## 資料前處理\n",
    "def preproc_x(x, flatten=True):\n",
    "    x = x / 255.\n",
    "    if flatten:\n",
    "        x = x.reshape((len(x), -1))\n",
    "    return x\n",
    "\n",
    "def preproc_y(y, num_classes=10):\n",
    "    if y.shape[-1] == 1:\n",
    "        y = keras.utils.to_categorical(y, num_classes)\n",
    "    return y    "
   ]
  },
  {
   "cell_type": "code",
   "execution_count": 4,
   "metadata": {
    "collapsed": true
   },
   "outputs": [],
   "source": [
    "x_train, y_train = train\n",
    "x_test, y_test = test\n",
    "\n",
    "# Preproc the inputs\n",
    "x_train = preproc_x(x_train)\n",
    "x_test = preproc_x(x_test)\n",
    "\n",
    "# Preprc the outputs\n",
    "y_train = preproc_y(y_train)\n",
    "y_test = preproc_y(y_test)"
   ]
  },
  {
   "cell_type": "code",
   "execution_count": 5,
   "metadata": {
    "collapsed": true
   },
   "outputs": [],
   "source": [
    "from keras.layers import BatchNormalization\n",
    "\n",
    "\"\"\"\n",
    "建立神經網路，並加入 BN layer\n",
    "\"\"\"\n",
    "def build_mlp(input_shape, output_units=10, num_neurons=[512, 256, 128]):\n",
    "    input_layer = keras.layers.Input(input_shape)\n",
    "    \n",
    "    for i, n_units in enumerate(num_neurons):\n",
    "        if i == 0:\n",
    "            x = keras.layers.Dense(units=n_units, \n",
    "                                   activation=\"relu\", \n",
    "                                   name=\"hidden_layer\"+str(i+1))(input_layer)\n",
    "            x = BatchNormalization()(x)\n",
    "        else:\n",
    "            x = keras.layers.Dense(units=n_units, \n",
    "                                   activation=\"relu\", \n",
    "                                   name=\"hidden_layer\"+str(i+1))(x)\n",
    "            x = BatchNormalization()(x)\n",
    "    \n",
    "    out = keras.layers.Dense(units=output_units, activation=\"softmax\", name=\"output\")(x)\n",
    "    \n",
    "    model = keras.models.Model(inputs=[input_layer], outputs=[out])\n",
    "    return model"
   ]
  },
  {
   "cell_type": "code",
   "execution_count": 6,
   "metadata": {
    "collapsed": true
   },
   "outputs": [],
   "source": [
    "\"\"\"Code Here\n",
    "設定超參數\n",
    "\"\"\"\n",
    "LEARNING_RATE = 1e-3\n",
    "EPOCHS = 50\n",
    "BATCH_SIZE = 1024\n",
    "MOMENTUM = 0.95"
   ]
  },
  {
   "cell_type": "code",
   "execution_count": 7,
   "metadata": {},
   "outputs": [
    {
     "name": "stdout",
     "output_type": "stream",
     "text": [
      "_________________________________________________________________\n",
      "Layer (type)                 Output Shape              Param #   \n",
      "=================================================================\n",
      "input_1 (InputLayer)         (None, 3072)              0         \n",
      "_________________________________________________________________\n",
      "hidden_layer1 (Dense)        (None, 512)               1573376   \n",
      "_________________________________________________________________\n",
      "batch_normalization_1 (Batch (None, 512)               2048      \n",
      "_________________________________________________________________\n",
      "hidden_layer2 (Dense)        (None, 256)               131328    \n",
      "_________________________________________________________________\n",
      "batch_normalization_2 (Batch (None, 256)               1024      \n",
      "_________________________________________________________________\n",
      "hidden_layer3 (Dense)        (None, 128)               32896     \n",
      "_________________________________________________________________\n",
      "batch_normalization_3 (Batch (None, 128)               512       \n",
      "_________________________________________________________________\n",
      "output (Dense)               (None, 10)                1290      \n",
      "=================================================================\n",
      "Total params: 1,742,474\n",
      "Trainable params: 1,740,682\n",
      "Non-trainable params: 1,792\n",
      "_________________________________________________________________\n",
      "Train on 50000 samples, validate on 10000 samples\n",
      "Epoch 1/50\n",
      "50000/50000 [==============================] - 11s 212us/step - loss: 2.2597 - acc: 0.2658 - val_loss: 2.1389 - val_acc: 0.3156\n",
      "Epoch 2/50\n",
      "50000/50000 [==============================] - 9s 174us/step - loss: 1.7463 - acc: 0.3954 - val_loss: 1.7937 - val_acc: 0.3839\n",
      "Epoch 3/50\n",
      "50000/50000 [==============================] - 8s 166us/step - loss: 1.6194 - acc: 0.4367 - val_loss: 1.6900 - val_acc: 0.4064\n",
      "Epoch 4/50\n",
      "50000/50000 [==============================] - 8s 162us/step - loss: 1.5453 - acc: 0.4619 - val_loss: 1.6324 - val_acc: 0.4168\n",
      "Epoch 5/50\n",
      "50000/50000 [==============================] - 8s 163us/step - loss: 1.4891 - acc: 0.4821 - val_loss: 1.5889 - val_acc: 0.4386\n",
      "Epoch 6/50\n",
      "50000/50000 [==============================] - 8s 166us/step - loss: 1.4431 - acc: 0.4962 - val_loss: 1.5645 - val_acc: 0.4445\n",
      "Epoch 7/50\n",
      "50000/50000 [==============================] - 8s 165us/step - loss: 1.4037 - acc: 0.5128 - val_loss: 1.5512 - val_acc: 0.4568\n",
      "Epoch 8/50\n",
      "50000/50000 [==============================] - 8s 170us/step - loss: 1.3700 - acc: 0.5253 - val_loss: 1.5227 - val_acc: 0.4579\n",
      "Epoch 9/50\n",
      "50000/50000 [==============================] - 8s 164us/step - loss: 1.3374 - acc: 0.5365 - val_loss: 1.5174 - val_acc: 0.4631\n",
      "Epoch 10/50\n",
      "50000/50000 [==============================] - 9s 185us/step - loss: 1.3071 - acc: 0.5469 - val_loss: 1.4964 - val_acc: 0.4705\n",
      "Epoch 11/50\n",
      "50000/50000 [==============================] - 8s 167us/step - loss: 1.2795 - acc: 0.5583 - val_loss: 1.4993 - val_acc: 0.4691\n",
      "Epoch 12/50\n",
      "50000/50000 [==============================] - 8s 164us/step - loss: 1.2541 - acc: 0.5662 - val_loss: 1.4898 - val_acc: 0.4753\n",
      "Epoch 13/50\n",
      "50000/50000 [==============================] - 8s 165us/step - loss: 1.2252 - acc: 0.5774 - val_loss: 1.4746 - val_acc: 0.4827\n",
      "Epoch 14/50\n",
      "50000/50000 [==============================] - 8s 163us/step - loss: 1.2017 - acc: 0.5866 - val_loss: 1.4815 - val_acc: 0.4768\n",
      "Epoch 15/50\n",
      "50000/50000 [==============================] - 8s 166us/step - loss: 1.1790 - acc: 0.5951 - val_loss: 1.4782 - val_acc: 0.4833\n",
      "Epoch 16/50\n",
      "50000/50000 [==============================] - 10s 192us/step - loss: 1.1551 - acc: 0.6046 - val_loss: 1.4662 - val_acc: 0.4883\n",
      "Epoch 17/50\n",
      "50000/50000 [==============================] - 10s 203us/step - loss: 1.1340 - acc: 0.6116 - val_loss: 1.4600 - val_acc: 0.4878\n",
      "Epoch 18/50\n",
      "50000/50000 [==============================] - 8s 166us/step - loss: 1.1117 - acc: 0.6220 - val_loss: 1.4629 - val_acc: 0.4871\n",
      "Epoch 19/50\n",
      "50000/50000 [==============================] - 9s 174us/step - loss: 1.0895 - acc: 0.6279 - val_loss: 1.4523 - val_acc: 0.4960\n",
      "Epoch 20/50\n",
      "50000/50000 [==============================] - 9s 188us/step - loss: 1.0674 - acc: 0.6369 - val_loss: 1.4496 - val_acc: 0.4894\n",
      "Epoch 21/50\n",
      "50000/50000 [==============================] - 10s 201us/step - loss: 1.0450 - acc: 0.6452 - val_loss: 1.4466 - val_acc: 0.4932\n",
      "Epoch 22/50\n",
      "50000/50000 [==============================] - 9s 178us/step - loss: 1.0231 - acc: 0.6540 - val_loss: 1.4520 - val_acc: 0.4927\n",
      "Epoch 23/50\n",
      "50000/50000 [==============================] - 9s 180us/step - loss: 1.0033 - acc: 0.6627 - val_loss: 1.4532 - val_acc: 0.4923\n",
      "Epoch 24/50\n",
      "50000/50000 [==============================] - 8s 166us/step - loss: 0.9831 - acc: 0.6671 - val_loss: 1.4530 - val_acc: 0.5001\n",
      "Epoch 25/50\n",
      "50000/50000 [==============================] - 9s 187us/step - loss: 0.9624 - acc: 0.6784 - val_loss: 1.4591 - val_acc: 0.4917\n",
      "Epoch 26/50\n",
      "50000/50000 [==============================] - 8s 167us/step - loss: 0.9429 - acc: 0.6857 - val_loss: 1.4604 - val_acc: 0.4968\n",
      "Epoch 00026: early stopping\n"
     ]
    }
   ],
   "source": [
    "# 載入 Callbacks\n",
    "\"\"\"Code Here\n",
    "設定 callbacks: Earlystop\n",
    "\"\"\"\n",
    "from keras.callbacks import EarlyStopping\n",
    "\n",
    "earlystop = EarlyStopping(monitor=\"val_loss\", \n",
    "                          patience=5, \n",
    "                          verbose=1\n",
    "                          )\n",
    "\n",
    "results = {}\n",
    "\"\"\"Code Here\n",
    "撰寫你的訓練流程並將結果用 dictionary 紀錄\n",
    "\"\"\"\n",
    "model = build_mlp(input_shape=x_train.shape[1:])\n",
    "model.summary()\n",
    "optimizer = keras.optimizers.SGD(lr=LEARNING_RATE, nesterov=True, momentum=MOMENTUM)\n",
    "model.compile(loss=\"categorical_crossentropy\", metrics=[\"accuracy\"], optimizer=optimizer)\n",
    "\n",
    "model.fit(x_train, y_train, \n",
    "          epochs=EPOCHS, \n",
    "          batch_size=BATCH_SIZE, \n",
    "          validation_data=(x_test, y_test), \n",
    "          shuffle=True,\n",
    "          callbacks=[earlystop]\n",
    "         )\n",
    "\n",
    "# Collect results\n",
    "train_loss = model.history.history[\"loss\"]\n",
    "valid_loss = model.history.history[\"val_loss\"]\n",
    "train_acc = model.history.history[\"acc\"]\n",
    "valid_acc = model.history.history[\"val_acc\"]"
   ]
  },
  {
   "cell_type": "code",
   "execution_count": 8,
   "metadata": {},
   "outputs": [
    {
     "data": {
      "image/png": "[encoded data removed]",
      "text/plain": [
       "<matplotlib.figure.Figure at 0xb3819fb70>"
      ]
     },
     "metadata": {},
     "output_type": "display_data"
    },
    {
     "data": {
      "image/png": "[encoded data removed]",
      "text/plain": [
       "<matplotlib.figure.Figure at 0xb37fe5e10>"
      ]
     },
     "metadata": {},
     "output_type": "display_data"
    }
   ],
   "source": [
    "import matplotlib.pyplot as plt\n",
    "%matplotlib inline\n",
    "\"\"\"Code Here\n",
    "將結果繪出\n",
    "\"\"\"\n",
    "import matplotlib.pyplot as plt\n",
    "%matplotlib inline\n",
    "\n",
    "plt.plot(range(len(train_loss)), train_loss, label=\"train loss\")\n",
    "plt.plot(range(len(valid_loss)), valid_loss, label=\"valid loss\")\n",
    "plt.legend()\n",
    "plt.title(\"Loss\")\n",
    "plt.show()\n",
    "\n",
    "plt.plot(range(len(train_acc)), train_acc, label=\"train accuracy\")\n",
    "plt.plot(range(len(valid_acc)), valid_acc, label=\"valid accuracy\")\n",
    "plt.legend()\n",
    "plt.title(\"Accuracy\")\n",
    "plt.show()"
   ]
  },
  {
   "cell_type": "code",
   "execution_count": null,
   "metadata": {
    "collapsed": true
   },
   "outputs": [],
   "source": []
  }
 ],
 "metadata": {
  "kernelspec": {
   "display_name": "Python 3",
   "language": "python",
   "name": "python3"
  },
  "language_info": {
   "codemirror_mode": {
    "name": "ipython",
    "version": 3
   },
   "file_extension": ".py",
   "mimetype": "text/x-python",
   "name": "python",
   "nbconvert_exporter": "python",
   "pygments_lexer": "ipython3",
   "version": "3.6.7"
  },
  "toc": {
   "base_numbering": 1,
   "nav_menu": {},
   "number_sections": true,
   "sideBar": true,
   "skip_h1_title": false,
   "title_cell": "Table of Contents",
   "title_sidebar": "Contents",
   "toc_cell": false,
   "toc_position": {},
   "toc_section_display": true,
   "toc_window_display": false
  }
 },
 "nbformat": 4,
 "nbformat_minor": 2
}
