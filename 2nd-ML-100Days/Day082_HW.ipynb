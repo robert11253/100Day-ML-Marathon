{
 "cells": [
  {
   "cell_type": "markdown",
   "metadata": {},
   "source": [
    "## Work\n",
    "1. 請比較使用不同層數以及不同 Dropout rate 對訓練的效果\n",
    "2. 將 optimizer 改成使用 Adam 並加上適當的 dropout rate 檢視結果"
   ]
  },
  {
   "cell_type": "code",
   "execution_count": 1,
   "metadata": {},
   "outputs": [
    {
     "name": "stderr",
     "output_type": "stream",
     "text": [
      "/Users/robertlai/anaconda3/lib/python3.6/site-packages/h5py/__init__.py:34: FutureWarning: Conversion of the second argument of issubdtype from `float` to `np.floating` is deprecated. In future, it will be treated as `np.float64 == np.dtype(float).type`.\n",
      "  from ._conv import register_converters as _register_converters\n",
      "Using TensorFlow backend.\n"
     ]
    }
   ],
   "source": [
    "import os\n",
    "import keras\n",
    "import itertools\n",
    "# Disable GPU\n",
    "os.environ[\"CUDA_VISIBLE_DEVICES\"] = \"\""
   ]
  },
  {
   "cell_type": "code",
   "execution_count": 2,
   "metadata": {
    "collapsed": true
   },
   "outputs": [],
   "source": [
    "train, test = keras.datasets.cifar10.load_data()"
   ]
  },
  {
   "cell_type": "code",
   "execution_count": 3,
   "metadata": {
    "collapsed": true
   },
   "outputs": [],
   "source": [
    "## 資料前處理\n",
    "def preproc_x(x, flatten=True):\n",
    "    x = x / 255.\n",
    "    if flatten:\n",
    "        x = x.reshape((len(x), -1))\n",
    "    return x\n",
    "\n",
    "def preproc_y(y, num_classes=10):\n",
    "    if y.shape[-1] == 1:\n",
    "        y = keras.utils.to_categorical(y, num_classes)\n",
    "    return y    "
   ]
  },
  {
   "cell_type": "code",
   "execution_count": 4,
   "metadata": {
    "collapsed": true
   },
   "outputs": [],
   "source": [
    "x_train, y_train = train\n",
    "x_test, y_test = test\n",
    "\n",
    "# Preproc the inputs\n",
    "x_train = preproc_x(x_train)\n",
    "x_test = preproc_x(x_test)\n",
    "\n",
    "# Preprc the outputs\n",
    "y_train = preproc_y(y_train)\n",
    "y_test = preproc_y(y_test)"
   ]
  },
  {
   "cell_type": "code",
   "execution_count": 5,
   "metadata": {
    "collapsed": true
   },
   "outputs": [],
   "source": [
    "\n",
    "from keras.layers import Dropout\n",
    "\n",
    "\"\"\"\n",
    "建立神經網路，並加入 dropout layer\n",
    "\"\"\"\n",
    "def build_mlp(input_shape, output_units=10, num_neurons=[512, 256, 128,128], drp_ratio=0.4):\n",
    "    input_layer = keras.layers.Input(input_shape)\n",
    "    \n",
    "    for i, n_units in enumerate(num_neurons):\n",
    "        if i == 0:\n",
    "            x = keras.layers.Dense(units=n_units, \n",
    "                                   activation=\"relu\", \n",
    "                                   name=\"hidden_layer\"+str(i+1))(input_layer)\n",
    "            x = Dropout(drp_ratio)(x)\n",
    "        else:\n",
    "            x = keras.layers.Dense(units=n_units, \n",
    "                                   activation=\"relu\", \n",
    "                                   name=\"hidden_layer\"+str(i+1))(x)\n",
    "            x = Dropout(drp_ratio)(x)\n",
    "    \n",
    "    out = keras.layers.Dense(units=output_units, activation=\"softmax\", name=\"output\")(x)\n",
    "    \n",
    "    model = keras.models.Model(inputs=[input_layer], outputs=[out])\n",
    "    return model"
   ]
  },
  {
   "cell_type": "code",
   "execution_count": 6,
   "metadata": {
    "collapsed": true
   },
   "outputs": [],
   "source": [
    "\"\"\"Code Here\n",
    "設定超參數\n",
    "\"\"\"\n",
    "LEARNING_RATE = 1e-3\n",
    "EPOCHS = 50\n",
    "BATCH_SIZE = 256\n",
    "MOMENTUM = 0.95\n",
    "Dropout_EXP = 0.25"
   ]
  },
  {
   "cell_type": "code",
   "execution_count": 8,
   "metadata": {
    "scrolled": true
   },
   "outputs": [
    {
     "name": "stdout",
     "output_type": "stream",
     "text": [
      "_________________________________________________________________\n",
      "Layer (type)                 Output Shape              Param #   \n",
      "=================================================================\n",
      "input_2 (InputLayer)         (None, 3072)              0         \n",
      "_________________________________________________________________\n",
      "hidden_layer1 (Dense)        (None, 512)               1573376   \n",
      "_________________________________________________________________\n",
      "dropout_5 (Dropout)          (None, 512)               0         \n",
      "_________________________________________________________________\n",
      "hidden_layer2 (Dense)        (None, 256)               131328    \n",
      "_________________________________________________________________\n",
      "dropout_6 (Dropout)          (None, 256)               0         \n",
      "_________________________________________________________________\n",
      "hidden_layer3 (Dense)        (None, 128)               32896     \n",
      "_________________________________________________________________\n",
      "dropout_7 (Dropout)          (None, 128)               0         \n",
      "_________________________________________________________________\n",
      "hidden_layer4 (Dense)        (None, 128)               16512     \n",
      "_________________________________________________________________\n",
      "dropout_8 (Dropout)          (None, 128)               0         \n",
      "_________________________________________________________________\n",
      "output (Dense)               (None, 10)                1290      \n",
      "=================================================================\n",
      "Total params: 1,755,402\n",
      "Trainable params: 1,755,402\n",
      "Non-trainable params: 0\n",
      "_________________________________________________________________\n",
      "Train on 50000 samples, validate on 10000 samples\n",
      "Epoch 1/50\n",
      "50000/50000 [==============================] - 15s 300us/step - loss: 2.1004 - acc: 0.2092 - val_loss: 1.8903 - val_acc: 0.3198\n",
      "Epoch 2/50\n",
      "50000/50000 [==============================] - 14s 274us/step - loss: 1.9212 - acc: 0.2935 - val_loss: 1.7853 - val_acc: 0.3564\n",
      "Epoch 3/50\n",
      "50000/50000 [==============================] - 14s 280us/step - loss: 1.8649 - acc: 0.3173 - val_loss: 1.7662 - val_acc: 0.3668\n",
      "Epoch 4/50\n",
      "50000/50000 [==============================] - 13s 258us/step - loss: 1.8293 - acc: 0.3319 - val_loss: 1.7423 - val_acc: 0.3726\n",
      "Epoch 5/50\n",
      "50000/50000 [==============================] - 15s 295us/step - loss: 1.8129 - acc: 0.3337 - val_loss: 1.7528 - val_acc: 0.3772\n",
      "Epoch 6/50\n",
      "50000/50000 [==============================] - 15s 295us/step - loss: 1.7863 - acc: 0.3500 - val_loss: 1.6866 - val_acc: 0.3997\n",
      "Epoch 7/50\n",
      "50000/50000 [==============================] - 15s 305us/step - loss: 1.7674 - acc: 0.3579 - val_loss: 1.6682 - val_acc: 0.4030\n",
      "Epoch 8/50\n",
      "50000/50000 [==============================] - 13s 259us/step - loss: 1.7519 - acc: 0.3661 - val_loss: 1.6607 - val_acc: 0.4072\n",
      "Epoch 9/50\n",
      "50000/50000 [==============================] - 13s 255us/step - loss: 1.7428 - acc: 0.3675 - val_loss: 1.6714 - val_acc: 0.4098\n",
      "Epoch 10/50\n",
      "50000/50000 [==============================] - 15s 291us/step - loss: 1.7235 - acc: 0.3762 - val_loss: 1.6423 - val_acc: 0.4186\n",
      "Epoch 11/50\n",
      "50000/50000 [==============================] - 14s 270us/step - loss: 1.7216 - acc: 0.3763 - val_loss: 1.6289 - val_acc: 0.4157\n",
      "Epoch 12/50\n",
      "50000/50000 [==============================] - 13s 262us/step - loss: 1.7071 - acc: 0.3829 - val_loss: 1.6314 - val_acc: 0.4202\n",
      "Epoch 13/50\n",
      "50000/50000 [==============================] - 13s 252us/step - loss: 1.7045 - acc: 0.3812 - val_loss: 1.6252 - val_acc: 0.4273\n",
      "Epoch 14/50\n",
      "50000/50000 [==============================] - 13s 259us/step - loss: 1.6975 - acc: 0.3898 - val_loss: 1.6049 - val_acc: 0.4362\n",
      "Epoch 15/50\n",
      "50000/50000 [==============================] - 14s 276us/step - loss: 1.6841 - acc: 0.3914 - val_loss: 1.5980 - val_acc: 0.4366\n",
      "Epoch 16/50\n",
      "50000/50000 [==============================] - 14s 275us/step - loss: 1.6698 - acc: 0.3963 - val_loss: 1.5856 - val_acc: 0.4360\n",
      "Epoch 17/50\n",
      "50000/50000 [==============================] - 16s 318us/step - loss: 1.6688 - acc: 0.3982 - val_loss: 1.5722 - val_acc: 0.4393\n",
      "Epoch 18/50\n",
      "50000/50000 [==============================] - 13s 254us/step - loss: 1.6674 - acc: 0.3986 - val_loss: 1.5687 - val_acc: 0.4484\n",
      "Epoch 19/50\n",
      "50000/50000 [==============================] - 14s 279us/step - loss: 1.6631 - acc: 0.4004 - val_loss: 1.5759 - val_acc: 0.4306\n",
      "Epoch 20/50\n",
      "50000/50000 [==============================] - 12s 246us/step - loss: 1.6518 - acc: 0.4032 - val_loss: 1.5718 - val_acc: 0.4437\n",
      "Epoch 21/50\n",
      "50000/50000 [==============================] - 14s 277us/step - loss: 1.6448 - acc: 0.4071 - val_loss: 1.5741 - val_acc: 0.4441\n",
      "Epoch 22/50\n",
      "50000/50000 [==============================] - 13s 265us/step - loss: 1.6443 - acc: 0.4068 - val_loss: 1.5922 - val_acc: 0.4339\n",
      "Epoch 23/50\n",
      "50000/50000 [==============================] - 13s 254us/step - loss: 1.6356 - acc: 0.4123 - val_loss: 1.5576 - val_acc: 0.4504\n",
      "Epoch 24/50\n",
      "50000/50000 [==============================] - 13s 251us/step - loss: 1.6291 - acc: 0.4113 - val_loss: 1.5853 - val_acc: 0.4363\n",
      "Epoch 25/50\n",
      "50000/50000 [==============================] - 13s 260us/step - loss: 1.6256 - acc: 0.4125 - val_loss: 1.5558 - val_acc: 0.4492\n",
      "Epoch 26/50\n",
      "50000/50000 [==============================] - 13s 260us/step - loss: 1.6271 - acc: 0.4132 - val_loss: 1.5533 - val_acc: 0.4523\n",
      "Epoch 27/50\n",
      "50000/50000 [==============================] - 13s 266us/step - loss: 1.6216 - acc: 0.4159 - val_loss: 1.5561 - val_acc: 0.4467\n",
      "Epoch 28/50\n",
      "50000/50000 [==============================] - 13s 269us/step - loss: 1.6161 - acc: 0.4181 - val_loss: 1.5921 - val_acc: 0.4379\n",
      "Epoch 29/50\n",
      "50000/50000 [==============================] - 14s 278us/step - loss: 1.6197 - acc: 0.4147 - val_loss: 1.5862 - val_acc: 0.4437\n",
      "Epoch 30/50\n",
      "50000/50000 [==============================] - 14s 286us/step - loss: 1.6055 - acc: 0.4215 - val_loss: 1.5571 - val_acc: 0.4492\n",
      "Epoch 31/50\n",
      "50000/50000 [==============================] - 14s 279us/step - loss: 1.6022 - acc: 0.4225 - val_loss: 1.5276 - val_acc: 0.4610\n",
      "Epoch 32/50\n",
      "50000/50000 [==============================] - 15s 293us/step - loss: 1.5964 - acc: 0.4223 - val_loss: 1.6271 - val_acc: 0.4203\n",
      "Epoch 33/50\n",
      "50000/50000 [==============================] - 15s 303us/step - loss: 1.6073 - acc: 0.4229 - val_loss: 1.5450 - val_acc: 0.4552\n",
      "Epoch 34/50\n",
      "50000/50000 [==============================] - 14s 273us/step - loss: 1.5970 - acc: 0.4262 - val_loss: 1.5492 - val_acc: 0.4563\n",
      "Epoch 35/50\n",
      "50000/50000 [==============================] - 14s 276us/step - loss: 1.5929 - acc: 0.4268 - val_loss: 1.5800 - val_acc: 0.4410\n",
      "Epoch 36/50\n",
      "50000/50000 [==============================] - 15s 292us/step - loss: 1.5864 - acc: 0.4275 - val_loss: 1.5338 - val_acc: 0.4541\n",
      "Epoch 37/50\n",
      "50000/50000 [==============================] - 14s 277us/step - loss: 1.5882 - acc: 0.4285 - val_loss: 1.5369 - val_acc: 0.4602\n",
      "Epoch 38/50\n",
      "50000/50000 [==============================] - 13s 258us/step - loss: 1.5831 - acc: 0.4323 - val_loss: 1.5509 - val_acc: 0.4540\n",
      "Epoch 39/50\n",
      "50000/50000 [==============================] - 14s 275us/step - loss: 1.5881 - acc: 0.4282 - val_loss: 1.5259 - val_acc: 0.4662\n",
      "Epoch 40/50\n",
      "50000/50000 [==============================] - 13s 256us/step - loss: 1.5838 - acc: 0.4326 - val_loss: 1.5245 - val_acc: 0.4575\n",
      "Epoch 41/50\n",
      "50000/50000 [==============================] - 13s 267us/step - loss: 1.5722 - acc: 0.4334 - val_loss: 1.5434 - val_acc: 0.4497\n",
      "Epoch 42/50\n",
      "50000/50000 [==============================] - 15s 301us/step - loss: 1.5756 - acc: 0.4346 - val_loss: 1.5084 - val_acc: 0.4708\n",
      "Epoch 43/50\n",
      "50000/50000 [==============================] - 14s 276us/step - loss: 1.5820 - acc: 0.4324 - val_loss: 1.5195 - val_acc: 0.4664\n",
      "Epoch 44/50\n",
      "50000/50000 [==============================] - 14s 272us/step - loss: 1.5745 - acc: 0.4345 - val_loss: 1.5286 - val_acc: 0.4604\n",
      "Epoch 45/50\n",
      "50000/50000 [==============================] - 15s 296us/step - loss: 1.5720 - acc: 0.4368 - val_loss: 1.5367 - val_acc: 0.4539\n",
      "Epoch 46/50\n"
     ]
    },
    {
     "name": "stdout",
     "output_type": "stream",
     "text": [
      "50000/50000 [==============================] - 14s 284us/step - loss: 1.5604 - acc: 0.4392 - val_loss: 1.5495 - val_acc: 0.4492\n",
      "Epoch 47/50\n",
      "50000/50000 [==============================] - 14s 281us/step - loss: 1.5609 - acc: 0.4422 - val_loss: 1.5121 - val_acc: 0.4614\n",
      "Epoch 48/50\n",
      "50000/50000 [==============================] - 14s 275us/step - loss: 1.5655 - acc: 0.4360 - val_loss: 1.5190 - val_acc: 0.4686\n",
      "Epoch 49/50\n",
      "50000/50000 [==============================] - 15s 291us/step - loss: 1.5617 - acc: 0.4380 - val_loss: 1.5082 - val_acc: 0.4649\n",
      "Epoch 50/50\n",
      "50000/50000 [==============================] - 14s 277us/step - loss: 1.5527 - acc: 0.4435 - val_loss: 1.5085 - val_acc: 0.4664\n"
     ]
    }
   ],
   "source": [
    "results = {}\n",
    "\"\"\"Code Here\n",
    "撰寫你的訓練流程並將結果用 dictionary 紀錄\n",
    "\"\"\"\n",
    "model = build_mlp(input_shape=x_train.shape[1:], drp_ratio=Dropout_EXP)\n",
    "model.summary()\n",
    "optimizer = keras.optimizers.Adam(lr=LEARNING_RATE, beta_1=0.9, beta_2=0.999, epsilon=None, decay=0.0, amsgrad=False)\n",
    "model.compile(loss=\"categorical_crossentropy\", metrics=[\"accuracy\"], optimizer=optimizer)\n",
    "\n",
    "model.fit(x_train, y_train, \n",
    "          epochs=EPOCHS, \n",
    "          batch_size=BATCH_SIZE, \n",
    "          validation_data=(x_test, y_test), \n",
    "          shuffle=True)\n",
    "\n",
    "# Collect results\n",
    "train_loss = model.history.history[\"loss\"]\n",
    "valid_loss = model.history.history[\"val_loss\"]\n",
    "train_acc = model.history.history[\"acc\"]\n",
    "valid_acc = model.history.history[\"val_acc\"]"
   ]
  },
  {
   "cell_type": "code",
   "execution_count": 9,
   "metadata": {},
   "outputs": [
    {
     "data": {
      "image/png": "[encoded data removed]",
      "text/plain": [
       "<matplotlib.figure.Figure at 0xb3a40dda0>"
      ]
     },
     "metadata": {},
     "output_type": "display_data"
    },
    {
     "data": {
      "image/png": "[encoded data removed]",
      "text/plain": [
       "<matplotlib.figure.Figure at 0xb3a32ac88>"
      ]
     },
     "metadata": {},
     "output_type": "display_data"
    }
   ],
   "source": [
    "import matplotlib.pyplot as plt\n",
    "%matplotlib inline\n",
    "\"\"\"Code Here\n",
    "將結果繪出\n",
    "\"\"\"\n",
    "import matplotlib.pyplot as plt\n",
    "%matplotlib inline\n",
    "\n",
    "plt.plot(range(len(train_loss)), train_loss, label=\"train loss\")\n",
    "plt.plot(range(len(valid_loss)), valid_loss, label=\"valid loss\")\n",
    "plt.legend()\n",
    "plt.title(\"Loss\")\n",
    "plt.show()\n",
    "\n",
    "plt.plot(range(len(train_acc)), train_acc, label=\"train accuracy\")\n",
    "plt.plot(range(len(valid_acc)), valid_acc, label=\"valid accuracy\")\n",
    "plt.legend()\n",
    "plt.title(\"Accuracy\")\n",
    "plt.show()"
   ]
  },
  {
   "cell_type": "code",
   "execution_count": null,
   "metadata": {
    "collapsed": true
   },
   "outputs": [],
   "source": []
  }
 ],
 "metadata": {
  "kernelspec": {
   "display_name": "Python 3",
   "language": "python",
   "name": "python3"
  },
  "language_info": {
   "codemirror_mode": {
    "name": "ipython",
    "version": 3
   },
   "file_extension": ".py",
   "mimetype": "text/x-python",
   "name": "python",
   "nbconvert_exporter": "python",
   "pygments_lexer": "ipython3",
   "version": "3.6.7"
  },
  "toc": {
   "base_numbering": 1,
   "nav_menu": {},
   "number_sections": true,
   "sideBar": true,
   "skip_h1_title": false,
   "title_cell": "Table of Contents",
   "title_sidebar": "Contents",
   "toc_cell": false,
   "toc_position": {},
   "toc_section_display": true,
   "toc_window_display": false
  }
 },
 "nbformat": 4,
 "nbformat_minor": 2
}
