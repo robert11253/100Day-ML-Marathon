{
 "cells": [
  {
   "cell_type": "markdown",
   "metadata": {},
   "source": [
    "## Work\n",
    "1. 試比較有 BN 在 Batch_size = 2, 16, 32, 128, 256 下的差異\n",
    "2. 請嘗試將 BN 放在 Activation 之前，並比較訓練結果\n",
    "3. 請於 BN 放在 Input Layer 後，並比較結果"
   ]
  },
  {
   "cell_type": "code",
   "execution_count": 2,
   "metadata": {
    "collapsed": true
   },
   "outputs": [],
   "source": [
    "import os\n",
    "import keras\n",
    "import itertools\n",
    "# Disable GPU\n",
    "os.environ[\"CUDA_VISIBLE_DEVICES\"] = \"\""
   ]
  },
  {
   "cell_type": "code",
   "execution_count": 3,
   "metadata": {
    "collapsed": true
   },
   "outputs": [],
   "source": [
    "train, test = keras.datasets.cifar10.load_data()"
   ]
  },
  {
   "cell_type": "code",
   "execution_count": 4,
   "metadata": {
    "collapsed": true
   },
   "outputs": [],
   "source": [
    "## 資料前處理\n",
    "def preproc_x(x, flatten=True):\n",
    "    x = x / 255.\n",
    "    if flatten:\n",
    "        x = x.reshape((len(x), -1))\n",
    "    return x\n",
    "\n",
    "def preproc_y(y, num_classes=10):\n",
    "    if y.shape[-1] == 1:\n",
    "        y = keras.utils.to_categorical(y, num_classes)\n",
    "    return y    "
   ]
  },
  {
   "cell_type": "code",
   "execution_count": 5,
   "metadata": {
    "collapsed": true
   },
   "outputs": [],
   "source": [
    "x_train, y_train = train\n",
    "x_test, y_test = test\n",
    "\n",
    "# Preproc the inputs\n",
    "x_train = preproc_x(x_train)\n",
    "x_test = preproc_x(x_test)\n",
    "\n",
    "# Preprc the outputs\n",
    "y_train = preproc_y(y_train)\n",
    "y_test = preproc_y(y_test)"
   ]
  },
  {
   "cell_type": "code",
   "execution_count": 6,
   "metadata": {},
   "outputs": [],
   "source": [
    "\n",
    "from keras.layers import BatchNormalization\n",
    "\n",
    "\"\"\"\n",
    "建立神經網路，並加入 BN layer\n",
    "\"\"\"\n",
    "def build_mlp(input_shape, output_units=10, num_neurons=[512, 256, 128]):\n",
    "    input_layer = keras.layers.Input(input_shape)\n",
    "    \n",
    "    for i, n_units in enumerate(num_neurons):\n",
    "        if i == 0:\n",
    "            x = keras.layers.Dense(units=n_units, \n",
    "                                   activation=\"relu\", \n",
    "                                   name=\"hidden_layer\"+str(i+1))(input_layer)\n",
    "            x = BatchNormalization()(x)\n",
    "        else:\n",
    "            x = keras.layers.Dense(units=n_units, \n",
    "                                   activation=\"relu\", \n",
    "                                   name=\"hidden_layer\"+str(i+1))(x)\n",
    "            x = BatchNormalization()(x)\n",
    "    \n",
    "    out = keras.layers.Dense(units=output_units, activation=\"softmax\", name=\"output\")(x)\n",
    "    \n",
    "    model = keras.models.Model(inputs=[input_layer], outputs=[out])\n",
    "    return model"
   ]
  },
  {
   "cell_type": "code",
   "execution_count": 7,
   "metadata": {
    "collapsed": true
   },
   "outputs": [],
   "source": [
    "\"\"\"Code Here\n",
    "設定超參數\n",
    "\"\"\"\n",
    "LEARNING_RATE = 1e-3\n",
    "EPOCHS = 50\n",
    "BATCH_SIZE = 1024\n",
    "MOMENTUM = 0.95"
   ]
  },
  {
   "cell_type": "code",
   "execution_count": 8,
   "metadata": {
    "scrolled": true
   },
   "outputs": [
    {
     "name": "stdout",
     "output_type": "stream",
     "text": [
      "_________________________________________________________________\n",
      "Layer (type)                 Output Shape              Param #   \n",
      "=================================================================\n",
      "input_1 (InputLayer)         (None, 3072)              0         \n",
      "_________________________________________________________________\n",
      "hidden_layer1 (Dense)        (None, 512)               1573376   \n",
      "_________________________________________________________________\n",
      "batch_normalization_1 (Batch (None, 512)               2048      \n",
      "_________________________________________________________________\n",
      "hidden_layer2 (Dense)        (None, 256)               131328    \n",
      "_________________________________________________________________\n",
      "batch_normalization_2 (Batch (None, 256)               1024      \n",
      "_________________________________________________________________\n",
      "hidden_layer3 (Dense)        (None, 128)               32896     \n",
      "_________________________________________________________________\n",
      "batch_normalization_3 (Batch (None, 128)               512       \n",
      "_________________________________________________________________\n",
      "output (Dense)               (None, 10)                1290      \n",
      "=================================================================\n",
      "Total params: 1,742,474\n",
      "Trainable params: 1,740,682\n",
      "Non-trainable params: 1,792\n",
      "_________________________________________________________________\n",
      "Train on 50000 samples, validate on 10000 samples\n",
      "Epoch 1/50\n",
      "50000/50000 [==============================] - 9s 174us/step - loss: 2.2180 - acc: 0.2698 - val_loss: 2.0784 - val_acc: 0.3178\n",
      "Epoch 2/50\n",
      "50000/50000 [==============================] - 9s 173us/step - loss: 1.7516 - acc: 0.3917 - val_loss: 1.8096 - val_acc: 0.3815\n",
      "Epoch 3/50\n",
      "50000/50000 [==============================] - 9s 177us/step - loss: 1.6242 - acc: 0.4315 - val_loss: 1.6785 - val_acc: 0.4157\n",
      "Epoch 4/50\n",
      "50000/50000 [==============================] - 9s 172us/step - loss: 1.5521 - acc: 0.4575 - val_loss: 1.6403 - val_acc: 0.4245\n",
      "Epoch 5/50\n",
      "50000/50000 [==============================] - 8s 165us/step - loss: 1.4955 - acc: 0.4767 - val_loss: 1.5951 - val_acc: 0.4360\n",
      "Epoch 6/50\n",
      "50000/50000 [==============================] - 10s 191us/step - loss: 1.4500 - acc: 0.4913 - val_loss: 1.5696 - val_acc: 0.4520\n",
      "Epoch 7/50\n",
      "50000/50000 [==============================] - 9s 178us/step - loss: 1.4112 - acc: 0.5070 - val_loss: 1.5621 - val_acc: 0.4488\n",
      "Epoch 8/50\n",
      "50000/50000 [==============================] - 9s 177us/step - loss: 1.3751 - acc: 0.5191 - val_loss: 1.5274 - val_acc: 0.4612\n",
      "Epoch 9/50\n",
      "50000/50000 [==============================] - 9s 188us/step - loss: 1.3423 - acc: 0.5311 - val_loss: 1.5330 - val_acc: 0.4619\n",
      "Epoch 10/50\n",
      "50000/50000 [==============================] - 9s 173us/step - loss: 1.3137 - acc: 0.5437 - val_loss: 1.5120 - val_acc: 0.4728\n",
      "Epoch 11/50\n",
      "50000/50000 [==============================] - 9s 173us/step - loss: 1.2838 - acc: 0.5551 - val_loss: 1.4979 - val_acc: 0.4790\n",
      "Epoch 12/50\n",
      "50000/50000 [==============================] - 9s 173us/step - loss: 1.2576 - acc: 0.5638 - val_loss: 1.4884 - val_acc: 0.4775\n",
      "Epoch 13/50\n",
      "50000/50000 [==============================] - 8s 160us/step - loss: 1.2306 - acc: 0.5735 - val_loss: 1.4891 - val_acc: 0.4790\n",
      "Epoch 14/50\n",
      "50000/50000 [==============================] - 9s 188us/step - loss: 1.2065 - acc: 0.5820 - val_loss: 1.4762 - val_acc: 0.4815\n",
      "Epoch 15/50\n",
      "50000/50000 [==============================] - 9s 177us/step - loss: 1.1824 - acc: 0.5923 - val_loss: 1.4757 - val_acc: 0.4873\n",
      "Epoch 16/50\n",
      "50000/50000 [==============================] - 9s 184us/step - loss: 1.1587 - acc: 0.6003 - val_loss: 1.4729 - val_acc: 0.4894\n",
      "Epoch 17/50\n",
      "50000/50000 [==============================] - 8s 168us/step - loss: 1.1364 - acc: 0.6089 - val_loss: 1.4692 - val_acc: 0.4862\n",
      "Epoch 18/50\n",
      "50000/50000 [==============================] - 9s 170us/step - loss: 1.1126 - acc: 0.6161 - val_loss: 1.4680 - val_acc: 0.4915\n",
      "Epoch 19/50\n",
      "50000/50000 [==============================] - 8s 157us/step - loss: 1.0896 - acc: 0.6268 - val_loss: 1.4789 - val_acc: 0.4850\n",
      "Epoch 20/50\n",
      "50000/50000 [==============================] - 9s 173us/step - loss: 1.0680 - acc: 0.6328 - val_loss: 1.4706 - val_acc: 0.4896\n",
      "Epoch 21/50\n",
      "50000/50000 [==============================] - 10s 192us/step - loss: 1.0464 - acc: 0.6436 - val_loss: 1.4740 - val_acc: 0.4957\n",
      "Epoch 22/50\n",
      "50000/50000 [==============================] - 9s 180us/step - loss: 1.0252 - acc: 0.6502 - val_loss: 1.4734 - val_acc: 0.4930\n",
      "Epoch 23/50\n",
      "50000/50000 [==============================] - 9s 174us/step - loss: 1.0039 - acc: 0.6577 - val_loss: 1.4841 - val_acc: 0.4960\n",
      "Epoch 24/50\n",
      "50000/50000 [==============================] - 9s 177us/step - loss: 0.9852 - acc: 0.6645 - val_loss: 1.4818 - val_acc: 0.4925\n",
      "Epoch 25/50\n",
      "50000/50000 [==============================] - 9s 179us/step - loss: 0.9634 - acc: 0.6753 - val_loss: 1.4932 - val_acc: 0.4869\n",
      "Epoch 26/50\n",
      "50000/50000 [==============================] - 9s 177us/step - loss: 0.9438 - acc: 0.6836 - val_loss: 1.4823 - val_acc: 0.4921\n",
      "Epoch 27/50\n",
      "50000/50000 [==============================] - 9s 180us/step - loss: 0.9226 - acc: 0.6905 - val_loss: 1.4845 - val_acc: 0.4933\n",
      "Epoch 28/50\n",
      "50000/50000 [==============================] - 9s 180us/step - loss: 0.9026 - acc: 0.6994 - val_loss: 1.4967 - val_acc: 0.4914\n",
      "Epoch 29/50\n",
      "50000/50000 [==============================] - 9s 172us/step - loss: 0.8827 - acc: 0.7061 - val_loss: 1.4901 - val_acc: 0.4964\n",
      "Epoch 30/50\n",
      "50000/50000 [==============================] - 8s 160us/step - loss: 0.8627 - acc: 0.7133 - val_loss: 1.5025 - val_acc: 0.4912\n",
      "Epoch 31/50\n",
      "50000/50000 [==============================] - 8s 158us/step - loss: 0.8440 - acc: 0.7210 - val_loss: 1.5052 - val_acc: 0.4954\n",
      "Epoch 32/50\n",
      "50000/50000 [==============================] - 8s 163us/step - loss: 0.8250 - acc: 0.7306 - val_loss: 1.5150 - val_acc: 0.4915\n",
      "Epoch 33/50\n",
      "50000/50000 [==============================] - 9s 174us/step - loss: 0.8029 - acc: 0.7399 - val_loss: 1.5330 - val_acc: 0.4865\n",
      "Epoch 34/50\n",
      "50000/50000 [==============================] - 9s 174us/step - loss: 0.7861 - acc: 0.7442 - val_loss: 1.5422 - val_acc: 0.4846\n",
      "Epoch 35/50\n",
      "50000/50000 [==============================] - 8s 169us/step - loss: 0.7667 - acc: 0.7529 - val_loss: 1.5328 - val_acc: 0.4932\n",
      "Epoch 36/50\n",
      "50000/50000 [==============================] - 8s 157us/step - loss: 0.7485 - acc: 0.7601 - val_loss: 1.5537 - val_acc: 0.4890\n",
      "Epoch 37/50\n",
      "50000/50000 [==============================] - 8s 163us/step - loss: 0.7294 - acc: 0.7666 - val_loss: 1.5566 - val_acc: 0.4910\n",
      "Epoch 38/50\n",
      "50000/50000 [==============================] - 8s 162us/step - loss: 0.7113 - acc: 0.7752 - val_loss: 1.5771 - val_acc: 0.4866\n",
      "Epoch 39/50\n",
      "50000/50000 [==============================] - 8s 164us/step - loss: 0.6914 - acc: 0.7836 - val_loss: 1.5681 - val_acc: 0.4940\n",
      "Epoch 40/50\n",
      "50000/50000 [==============================] - 8s 161us/step - loss: 0.6718 - acc: 0.7900 - val_loss: 1.5820 - val_acc: 0.4898\n",
      "Epoch 41/50\n",
      "50000/50000 [==============================] - 8s 161us/step - loss: 0.6543 - acc: 0.7977 - val_loss: 1.6044 - val_acc: 0.4881\n",
      "Epoch 42/50\n",
      "50000/50000 [==============================] - 8s 163us/step - loss: 0.6349 - acc: 0.8051 - val_loss: 1.5987 - val_acc: 0.4922\n",
      "Epoch 43/50\n",
      "50000/50000 [==============================] - 8s 168us/step - loss: 0.6189 - acc: 0.8111 - val_loss: 1.6235 - val_acc: 0.4835\n",
      "Epoch 44/50\n",
      "50000/50000 [==============================] - 10s 190us/step - loss: 0.6013 - acc: 0.8185 - val_loss: 1.6330 - val_acc: 0.4877\n",
      "Epoch 45/50\n",
      "50000/50000 [==============================] - 8s 167us/step - loss: 0.5863 - acc: 0.8236 - val_loss: 1.6379 - val_acc: 0.4867\n",
      "Epoch 46/50\n",
      "50000/50000 [==============================] - 9s 178us/step - loss: 0.5671 - acc: 0.8336 - val_loss: 1.6594 - val_acc: 0.4824\n",
      "Epoch 47/50\n",
      "50000/50000 [==============================] - 8s 160us/step - loss: 0.5501 - acc: 0.8395 - val_loss: 1.6491 - val_acc: 0.4867\n",
      "Epoch 48/50\n",
      "50000/50000 [==============================] - 8s 161us/step - loss: 0.5330 - acc: 0.8453 - val_loss: 1.7019 - val_acc: 0.4836\n",
      "Epoch 49/50\n"
     ]
    },
    {
     "name": "stdout",
     "output_type": "stream",
     "text": [
      "50000/50000 [==============================] - 8s 165us/step - loss: 0.5198 - acc: 0.8505 - val_loss: 1.7078 - val_acc: 0.4844\n",
      "Epoch 50/50\n",
      "50000/50000 [==============================] - 9s 171us/step - loss: 0.5020 - acc: 0.8570 - val_loss: 1.7081 - val_acc: 0.4854\n"
     ]
    }
   ],
   "source": [
    "results = {}\n",
    "\"\"\"Code Here\n",
    "撰寫你的訓練流程並將結果用 dictionary 紀錄\n",
    "\"\"\"\n",
    "model = build_mlp(input_shape=x_train.shape[1:])\n",
    "model.summary()\n",
    "optimizer = keras.optimizers.SGD(lr=LEARNING_RATE, nesterov=True, momentum=MOMENTUM)\n",
    "model.compile(loss=\"categorical_crossentropy\", metrics=[\"accuracy\"], optimizer=optimizer)\n",
    "\n",
    "model.fit(x_train, y_train, \n",
    "          epochs=EPOCHS, \n",
    "          batch_size=BATCH_SIZE, \n",
    "          validation_data=(x_test, y_test), \n",
    "          shuffle=True)\n",
    "\n",
    "# Collect results\n",
    "train_loss = model.history.history[\"loss\"]\n",
    "valid_loss = model.history.history[\"val_loss\"]\n",
    "train_acc = model.history.history[\"acc\"]\n",
    "valid_acc = model.history.history[\"val_acc\"]"
   ]
  },
  {
   "cell_type": "code",
   "execution_count": 9,
   "metadata": {},
   "outputs": [
    {
     "data": {
      "image/png": "[encoded data removed]",
      "text/plain": [
       "<matplotlib.figure.Figure at 0xb31553c88>"
      ]
     },
     "metadata": {},
     "output_type": "display_data"
    },
    {
     "data": {
      "image/png": "[encoded data removed]",
      "text/plain": [
       "<matplotlib.figure.Figure at 0xb2f7d65f8>"
      ]
     },
     "metadata": {},
     "output_type": "display_data"
    }
   ],
   "source": [
    "import matplotlib.pyplot as plt\n",
    "%matplotlib inline\n",
    "\"\"\"Code Here\n",
    "將結果繪出\n",
    "\"\"\"\n",
    "import matplotlib.pyplot as plt\n",
    "%matplotlib inline\n",
    "\n",
    "plt.plot(range(len(train_loss)), train_loss, label=\"train loss\")\n",
    "plt.plot(range(len(valid_loss)), valid_loss, label=\"valid loss\")\n",
    "plt.legend()\n",
    "plt.title(\"Loss\")\n",
    "plt.show()\n",
    "\n",
    "plt.plot(range(len(train_acc)), train_acc, label=\"train accuracy\")\n",
    "plt.plot(range(len(valid_acc)), valid_acc, label=\"valid accuracy\")\n",
    "plt.legend()\n",
    "plt.title(\"Accuracy\")\n",
    "plt.show()"
   ]
  },
  {
   "cell_type": "code",
   "execution_count": null,
   "metadata": {
    "collapsed": true
   },
   "outputs": [],
   "source": []
  }
 ],
 "metadata": {
  "kernelspec": {
   "display_name": "Python 3",
   "language": "python",
   "name": "python3"
  },
  "language_info": {
   "codemirror_mode": {
    "name": "ipython",
    "version": 3
   },
   "file_extension": ".py",
   "mimetype": "text/x-python",
   "name": "python",
   "nbconvert_exporter": "python",
   "pygments_lexer": "ipython3",
   "version": "3.6.7"
  },
  "toc": {
   "base_numbering": 1,
   "nav_menu": {},
   "number_sections": true,
   "sideBar": true,
   "skip_h1_title": false,
   "title_cell": "Table of Contents",
   "title_sidebar": "Contents",
   "toc_cell": false,
   "toc_position": {},
   "toc_section_display": true,
   "toc_window_display": false
  }
 },
 "nbformat": 4,
 "nbformat_minor": 2
}
