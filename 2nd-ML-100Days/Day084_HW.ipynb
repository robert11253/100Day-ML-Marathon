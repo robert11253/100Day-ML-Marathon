{
 "cells": [
  {
   "cell_type": "markdown",
   "metadata": {},
   "source": [
    "## Work\n",
    "### 請結合前面的知識與程式碼，比較不同的 regularization 的組合對訓練的結果與影響：如 dropout, regularizers, batch-normalization 等"
   ]
  },
  {
   "cell_type": "code",
   "execution_count": 1,
   "metadata": {},
   "outputs": [
    {
     "name": "stderr",
     "output_type": "stream",
     "text": [
      "/Users/robertlai/anaconda3/lib/python3.6/site-packages/h5py/__init__.py:34: FutureWarning: Conversion of the second argument of issubdtype from `float` to `np.floating` is deprecated. In future, it will be treated as `np.float64 == np.dtype(float).type`.\n",
      "  from ._conv import register_converters as _register_converters\n",
      "Using TensorFlow backend.\n"
     ]
    }
   ],
   "source": [
    "import os\n",
    "import keras\n",
    "import itertools\n",
    "# Disable GPU\n",
    "os.environ[\"CUDA_VISIBLE_DEVICES\"] = \"\""
   ]
  },
  {
   "cell_type": "code",
   "execution_count": 2,
   "metadata": {
    "collapsed": true
   },
   "outputs": [],
   "source": [
    "train, test = keras.datasets.cifar10.load_data()"
   ]
  },
  {
   "cell_type": "code",
   "execution_count": 3,
   "metadata": {
    "collapsed": true
   },
   "outputs": [],
   "source": [
    "## 資料前處理\n",
    "def preproc_x(x, flatten=True):\n",
    "    x = x / 255.\n",
    "    if flatten:\n",
    "        x = x.reshape((len(x), -1))\n",
    "    return x\n",
    "\n",
    "def preproc_y(y, num_classes=10):\n",
    "    if y.shape[-1] == 1:\n",
    "        y = keras.utils.to_categorical(y, num_classes)\n",
    "    return y    "
   ]
  },
  {
   "cell_type": "code",
   "execution_count": 4,
   "metadata": {
    "collapsed": true
   },
   "outputs": [],
   "source": [
    "x_train, y_train = train\n",
    "x_test, y_test = test\n",
    "\n",
    "# Preproc the inputs\n",
    "x_train = preproc_x(x_train)\n",
    "x_test = preproc_x(x_test)\n",
    "\n",
    "# Preprc the outputs\n",
    "y_train = preproc_y(y_train)\n",
    "y_test = preproc_y(y_test)"
   ]
  },
  {
   "cell_type": "code",
   "execution_count": 5,
   "metadata": {
    "collapsed": true
   },
   "outputs": [],
   "source": [
    "\n",
    "from keras.layers import BatchNormalization\n",
    "\n",
    "\"\"\"\n",
    "建立神經網路，並加入 BN layer\n",
    "\"\"\"\n",
    "def build_mlp(input_shape, output_units=10, num_neurons=[512, 256, 128]):\n",
    "    input_layer = keras.layers.Input(input_shape)\n",
    "    \n",
    "    for i, n_units in enumerate(num_neurons):\n",
    "        if i == 0:\n",
    "            x = keras.layers.Dense(units=n_units, \n",
    "                                   activation=\"relu\", \n",
    "                                   name=\"hidden_layer\"+str(i+1))(input_layer)\n",
    "            x = BatchNormalization()(x)\n",
    "        else:\n",
    "            x = keras.layers.Dense(units=n_units, \n",
    "                                   activation=\"relu\", \n",
    "                                   name=\"hidden_layer\"+str(i+1))(x)\n",
    "            x = BatchNormalization()(x)\n",
    "    \n",
    "    out = keras.layers.Dense(units=output_units, activation=\"softmax\", name=\"output\")(x)\n",
    "    \n",
    "    model = keras.models.Model(inputs=[input_layer], outputs=[out])\n",
    "    return model"
   ]
  },
  {
   "cell_type": "code",
   "execution_count": 6,
   "metadata": {
    "collapsed": true
   },
   "outputs": [],
   "source": [
    "\"\"\"Code Here\n",
    "設定超參數\n",
    "\"\"\"\n",
    "LEARNING_RATE = 1e-3\n",
    "EPOCHS = 50\n",
    "BATCH_SIZE = 1024\n",
    "MOMENTUM = 0.95"
   ]
  },
  {
   "cell_type": "code",
   "execution_count": 7,
   "metadata": {
    "scrolled": true
   },
   "outputs": [
    {
     "name": "stdout",
     "output_type": "stream",
     "text": [
      "_________________________________________________________________\n",
      "Layer (type)                 Output Shape              Param #   \n",
      "=================================================================\n",
      "input_1 (InputLayer)         (None, 3072)              0         \n",
      "_________________________________________________________________\n",
      "hidden_layer1 (Dense)        (None, 512)               1573376   \n",
      "_________________________________________________________________\n",
      "batch_normalization_1 (Batch (None, 512)               2048      \n",
      "_________________________________________________________________\n",
      "hidden_layer2 (Dense)        (None, 256)               131328    \n",
      "_________________________________________________________________\n",
      "batch_normalization_2 (Batch (None, 256)               1024      \n",
      "_________________________________________________________________\n",
      "hidden_layer3 (Dense)        (None, 128)               32896     \n",
      "_________________________________________________________________\n",
      "batch_normalization_3 (Batch (None, 128)               512       \n",
      "_________________________________________________________________\n",
      "output (Dense)               (None, 10)                1290      \n",
      "=================================================================\n",
      "Total params: 1,742,474\n",
      "Trainable params: 1,740,682\n",
      "Non-trainable params: 1,792\n",
      "_________________________________________________________________\n",
      "Train on 50000 samples, validate on 10000 samples\n",
      "Epoch 1/50\n",
      "50000/50000 [==============================] - 9s 187us/step - loss: 2.2196 - acc: 0.2755 - val_loss: 2.1569 - val_acc: 0.2988\n",
      "Epoch 2/50\n",
      "50000/50000 [==============================] - 8s 162us/step - loss: 1.7453 - acc: 0.3927 - val_loss: 1.8034 - val_acc: 0.3770\n",
      "Epoch 3/50\n",
      "50000/50000 [==============================] - 8s 158us/step - loss: 1.6180 - acc: 0.4344 - val_loss: 1.6822 - val_acc: 0.4157\n",
      "Epoch 4/50\n",
      "50000/50000 [==============================] - 8s 157us/step - loss: 1.5449 - acc: 0.4610 - val_loss: 1.6208 - val_acc: 0.4301\n",
      "Epoch 5/50\n",
      "50000/50000 [==============================] - 8s 159us/step - loss: 1.4876 - acc: 0.4823 - val_loss: 1.5944 - val_acc: 0.4400\n",
      "Epoch 6/50\n",
      "50000/50000 [==============================] - 8s 160us/step - loss: 1.4411 - acc: 0.4962 - val_loss: 1.5578 - val_acc: 0.4511\n",
      "Epoch 7/50\n",
      "50000/50000 [==============================] - 8s 162us/step - loss: 1.4041 - acc: 0.5092 - val_loss: 1.5365 - val_acc: 0.4557\n",
      "Epoch 8/50\n",
      "50000/50000 [==============================] - 8s 158us/step - loss: 1.3670 - acc: 0.5226 - val_loss: 1.5179 - val_acc: 0.4670\n",
      "Epoch 9/50\n",
      "50000/50000 [==============================] - 8s 166us/step - loss: 1.3338 - acc: 0.5341 - val_loss: 1.5057 - val_acc: 0.4733\n",
      "Epoch 10/50\n",
      "50000/50000 [==============================] - 8s 157us/step - loss: 1.3064 - acc: 0.5455 - val_loss: 1.4928 - val_acc: 0.4702\n",
      "Epoch 11/50\n",
      "50000/50000 [==============================] - 8s 156us/step - loss: 1.2762 - acc: 0.5549 - val_loss: 1.4894 - val_acc: 0.4749\n",
      "Epoch 12/50\n",
      "50000/50000 [==============================] - 8s 160us/step - loss: 1.2503 - acc: 0.5658 - val_loss: 1.4736 - val_acc: 0.4793\n",
      "Epoch 13/50\n",
      "50000/50000 [==============================] - 8s 165us/step - loss: 1.2252 - acc: 0.5771 - val_loss: 1.4852 - val_acc: 0.4772\n",
      "Epoch 14/50\n",
      "50000/50000 [==============================] - 8s 157us/step - loss: 1.2010 - acc: 0.5847 - val_loss: 1.4650 - val_acc: 0.4825\n",
      "Epoch 15/50\n",
      "50000/50000 [==============================] - 8s 162us/step - loss: 1.1778 - acc: 0.5926 - val_loss: 1.4600 - val_acc: 0.4875\n",
      "Epoch 16/50\n",
      "50000/50000 [==============================] - 8s 158us/step - loss: 1.1549 - acc: 0.6022 - val_loss: 1.4558 - val_acc: 0.4837\n",
      "Epoch 17/50\n",
      "50000/50000 [==============================] - 8s 161us/step - loss: 1.1314 - acc: 0.6138 - val_loss: 1.4698 - val_acc: 0.4805\n",
      "Epoch 18/50\n",
      "50000/50000 [==============================] - 17s 344us/step - loss: 1.1099 - acc: 0.6209 - val_loss: 1.4669 - val_acc: 0.4839\n",
      "Epoch 19/50\n",
      "50000/50000 [==============================] - 11s 225us/step - loss: 1.0871 - acc: 0.6268 - val_loss: 1.4558 - val_acc: 0.4879\n",
      "Epoch 20/50\n",
      "50000/50000 [==============================] - 8s 163us/step - loss: 1.0667 - acc: 0.6353 - val_loss: 1.4555 - val_acc: 0.4855\n",
      "Epoch 21/50\n",
      "50000/50000 [==============================] - 8s 161us/step - loss: 1.0446 - acc: 0.6454 - val_loss: 1.4553 - val_acc: 0.4859\n",
      "Epoch 22/50\n",
      "50000/50000 [==============================] - 8s 158us/step - loss: 1.0258 - acc: 0.6508 - val_loss: 1.4539 - val_acc: 0.4938\n",
      "Epoch 23/50\n",
      "50000/50000 [==============================] - 8s 157us/step - loss: 1.0055 - acc: 0.6597 - val_loss: 1.4612 - val_acc: 0.4906\n",
      "Epoch 24/50\n",
      "50000/50000 [==============================] - 8s 160us/step - loss: 0.9839 - acc: 0.6676 - val_loss: 1.4613 - val_acc: 0.4924\n",
      "Epoch 25/50\n",
      "50000/50000 [==============================] - 8s 161us/step - loss: 0.9644 - acc: 0.6755 - val_loss: 1.4722 - val_acc: 0.4903\n",
      "Epoch 26/50\n",
      "50000/50000 [==============================] - 8s 157us/step - loss: 0.9446 - acc: 0.6845 - val_loss: 1.4806 - val_acc: 0.4862\n",
      "Epoch 27/50\n",
      "50000/50000 [==============================] - 8s 161us/step - loss: 0.9231 - acc: 0.6908 - val_loss: 1.4687 - val_acc: 0.4980\n",
      "Epoch 28/50\n",
      "50000/50000 [==============================] - 8s 162us/step - loss: 0.9036 - acc: 0.7000 - val_loss: 1.4730 - val_acc: 0.4911\n",
      "Epoch 29/50\n",
      "50000/50000 [==============================] - 8s 162us/step - loss: 0.8825 - acc: 0.7084 - val_loss: 1.4858 - val_acc: 0.4883\n",
      "Epoch 30/50\n",
      "50000/50000 [==============================] - 8s 169us/step - loss: 0.8653 - acc: 0.7157 - val_loss: 1.4871 - val_acc: 0.4866\n",
      "Epoch 31/50\n",
      "50000/50000 [==============================] - 9s 184us/step - loss: 0.8432 - acc: 0.7229 - val_loss: 1.4925 - val_acc: 0.4944\n",
      "Epoch 32/50\n",
      "50000/50000 [==============================] - 8s 160us/step - loss: 0.8257 - acc: 0.7315 - val_loss: 1.4927 - val_acc: 0.4893\n",
      "Epoch 33/50\n",
      "50000/50000 [==============================] - 8s 163us/step - loss: 0.8058 - acc: 0.7380 - val_loss: 1.5141 - val_acc: 0.4936\n",
      "Epoch 34/50\n",
      "50000/50000 [==============================] - 8s 170us/step - loss: 0.7857 - acc: 0.7480 - val_loss: 1.5101 - val_acc: 0.4946\n",
      "Epoch 35/50\n",
      "50000/50000 [==============================] - 9s 175us/step - loss: 0.7677 - acc: 0.7531 - val_loss: 1.5251 - val_acc: 0.4909\n",
      "Epoch 36/50\n",
      "50000/50000 [==============================] - 8s 161us/step - loss: 0.7491 - acc: 0.7619 - val_loss: 1.5207 - val_acc: 0.4919\n",
      "Epoch 37/50\n",
      "50000/50000 [==============================] - 8s 170us/step - loss: 0.7306 - acc: 0.7679 - val_loss: 1.5323 - val_acc: 0.4910\n",
      "Epoch 38/50\n",
      "50000/50000 [==============================] - 9s 186us/step - loss: 0.7114 - acc: 0.7763 - val_loss: 1.5550 - val_acc: 0.4899\n",
      "Epoch 39/50\n",
      "50000/50000 [==============================] - 9s 185us/step - loss: 0.6944 - acc: 0.7819 - val_loss: 1.5653 - val_acc: 0.4838\n",
      "Epoch 40/50\n",
      "50000/50000 [==============================] - 9s 171us/step - loss: 0.6764 - acc: 0.7881 - val_loss: 1.5607 - val_acc: 0.4911\n",
      "Epoch 41/50\n",
      "50000/50000 [==============================] - 10s 196us/step - loss: 0.6580 - acc: 0.7983 - val_loss: 1.5836 - val_acc: 0.4869\n",
      "Epoch 42/50\n",
      "50000/50000 [==============================] - 12s 238us/step - loss: 0.6400 - acc: 0.8028 - val_loss: 1.5860 - val_acc: 0.4938\n",
      "Epoch 43/50\n",
      "50000/50000 [==============================] - 8s 163us/step - loss: 0.6213 - acc: 0.8124 - val_loss: 1.5941 - val_acc: 0.4913\n",
      "Epoch 44/50\n",
      "50000/50000 [==============================] - 8s 162us/step - loss: 0.6038 - acc: 0.8204 - val_loss: 1.6110 - val_acc: 0.4875\n",
      "Epoch 45/50\n",
      "50000/50000 [==============================] - 8s 165us/step - loss: 0.5876 - acc: 0.8268 - val_loss: 1.6452 - val_acc: 0.4832\n",
      "Epoch 46/50\n",
      "50000/50000 [==============================] - 8s 163us/step - loss: 0.5713 - acc: 0.8321 - val_loss: 1.6527 - val_acc: 0.4838\n",
      "Epoch 47/50\n",
      "50000/50000 [==============================] - 8s 158us/step - loss: 0.5547 - acc: 0.8404 - val_loss: 1.6456 - val_acc: 0.4846\n",
      "Epoch 48/50\n",
      "50000/50000 [==============================] - 8s 166us/step - loss: 0.5379 - acc: 0.8468 - val_loss: 1.6622 - val_acc: 0.4833\n",
      "Epoch 49/50\n"
     ]
    },
    {
     "name": "stdout",
     "output_type": "stream",
     "text": [
      "50000/50000 [==============================] - 8s 158us/step - loss: 0.5212 - acc: 0.8522 - val_loss: 1.6628 - val_acc: 0.4857\n",
      "Epoch 50/50\n",
      "50000/50000 [==============================] - 8s 159us/step - loss: 0.5073 - acc: 0.8577 - val_loss: 1.6826 - val_acc: 0.4834\n"
     ]
    }
   ],
   "source": [
    "results = {}\n",
    "\"\"\"Code Here\n",
    "撰寫你的訓練流程並將結果用 dictionary 紀錄\n",
    "\"\"\"\n",
    "model = build_mlp(input_shape=x_train.shape[1:])\n",
    "model.summary()\n",
    "optimizer = keras.optimizers.SGD(lr=LEARNING_RATE, nesterov=True, momentum=MOMENTUM)\n",
    "model.compile(loss=\"categorical_crossentropy\", metrics=[\"accuracy\"], optimizer=optimizer)\n",
    "\n",
    "model.fit(x_train, y_train, \n",
    "          epochs=EPOCHS, \n",
    "          batch_size=BATCH_SIZE, \n",
    "          validation_data=(x_test, y_test), \n",
    "          shuffle=True)\n",
    "\n",
    "# Collect results\n",
    "train_loss = model.history.history[\"loss\"]\n",
    "valid_loss = model.history.history[\"val_loss\"]\n",
    "train_acc = model.history.history[\"acc\"]\n",
    "valid_acc = model.history.history[\"val_acc\"]"
   ]
  },
  {
   "cell_type": "code",
   "execution_count": 8,
   "metadata": {},
   "outputs": [
    {
     "data": {
      "image/png": "[encoded data removed]",
      "text/plain": [
       "<matplotlib.figure.Figure at 0xb3ca25780>"
      ]
     },
     "metadata": {},
     "output_type": "display_data"
    },
    {
     "data": {
      "image/png": "[encoded data removed]",
      "text/plain": [
       "<matplotlib.figure.Figure at 0xb3ab10c50>"
      ]
     },
     "metadata": {},
     "output_type": "display_data"
    }
   ],
   "source": [
    "import matplotlib.pyplot as plt\n",
    "%matplotlib inline\n",
    "\"\"\"Code Here\n",
    "將結果繪出\n",
    "\"\"\"\n",
    "import matplotlib.pyplot as plt\n",
    "%matplotlib inline\n",
    "\n",
    "plt.plot(range(len(train_loss)), train_loss, label=\"train loss\")\n",
    "plt.plot(range(len(valid_loss)), valid_loss, label=\"valid loss\")\n",
    "plt.legend()\n",
    "plt.title(\"Loss\")\n",
    "plt.show()\n",
    "\n",
    "plt.plot(range(len(train_acc)), train_acc, label=\"train accuracy\")\n",
    "plt.plot(range(len(valid_acc)), valid_acc, label=\"valid accuracy\")\n",
    "plt.legend()\n",
    "plt.title(\"Accuracy\")\n",
    "plt.show()"
   ]
  },
  {
   "cell_type": "code",
   "execution_count": null,
   "metadata": {
    "collapsed": true
   },
   "outputs": [],
   "source": []
  }
 ],
 "metadata": {
  "kernelspec": {
   "display_name": "Python 3",
   "language": "python",
   "name": "python3"
  },
  "language_info": {
   "codemirror_mode": {
    "name": "ipython",
    "version": 3
   },
   "file_extension": ".py",
   "mimetype": "text/x-python",
   "name": "python",
   "nbconvert_exporter": "python",
   "pygments_lexer": "ipython3",
   "version": "3.6.7"
  },
  "toc": {
   "base_numbering": 1,
   "nav_menu": {},
   "number_sections": true,
   "sideBar": true,
   "skip_h1_title": false,
   "title_cell": "Table of Contents",
   "title_sidebar": "Contents",
   "toc_cell": false,
   "toc_position": {},
   "toc_section_display": true,
   "toc_window_display": false
  }
 },
 "nbformat": 4,
 "nbformat_minor": 2
}
