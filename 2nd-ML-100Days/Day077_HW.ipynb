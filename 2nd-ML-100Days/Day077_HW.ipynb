{
 "cells": [
  {
   "cell_type": "markdown",
   "metadata": {},
   "source": [
    "## Work\n",
    "1. 請將 Epoch 加到 500 個，並觀察 learning curve 的走勢\n",
    "2. 請將 Optimizer 換成 SGD，並觀察 learning curve 的走勢"
   ]
  },
  {
   "cell_type": "code",
   "execution_count": 7,
   "metadata": {},
   "outputs": [],
   "source": [
    "import os\n",
    "import keras\n",
    "\n",
    "# 本作業可以不需使用 GPU, 將 GPU 設定為 \"無\" (若有 GPU 且想開啟，可設為 \"0\")\n",
    "os.environ[\"CUDA_VISIBLE_DEVICES\"] = \"\""
   ]
  },
  {
   "cell_type": "code",
   "execution_count": 8,
   "metadata": {
    "collapsed": true
   },
   "outputs": [],
   "source": [
    "# 從 Keras 的內建功能中，取得 train 與 test 資料集\n",
    "train, test = keras.datasets.cifar10.load_data()"
   ]
  },
  {
   "cell_type": "code",
   "execution_count": 9,
   "metadata": {
    "collapsed": true
   },
   "outputs": [],
   "source": [
    "# 將 X 與 Y 獨立放進變數\n",
    "x_train, y_train = train\n",
    "x_test, y_test = test\n",
    "# 資料前處理 - 標準化\n",
    "x_train = x_train / 255.\n",
    "x_test = x_test / 255.\n",
    "\n",
    "# 將資料從圖形 (RGB) 轉為向量 (Single Vector)\n",
    "x_train = x_train.reshape((len(x_train), -1))\n",
    "x_test = x_test.reshape((len(x_test), -1))\n",
    "\n",
    "# 將目標轉為 one-hot encoding\n",
    "y_train = keras.utils.to_categorical(y_train, num_classes=10)\n",
    "y_test = keras.utils.to_categorical(y_test, num_classes=10)"
   ]
  },
  {
   "cell_type": "code",
   "execution_count": 10,
   "metadata": {},
   "outputs": [],
   "source": [
    "def build_mlp():\n",
    "    \"\"\"Code Here\n",
    "    建立你的神經網路\n",
    "    \"\"\"\n",
    "    input_layer = keras.layers.Input([x_train.shape[-1]])\n",
    "    x = keras.layers.Dense(units=512, activation=\"relu\")(input_layer)\n",
    "    x = keras.layers.Dense(units=256, activation=\"relu\")(x)\n",
    "    x = keras.layers.Dense(units=128, activation=\"relu\")(x)\n",
    "    out = keras.layers.Dense(units=10, activation=\"softmax\")(x)\n",
    "    \n",
    "    model = keras.models.Model(inputs=[input_layer], outputs=[out])\n",
    "    \n",
    "    return model"
   ]
  },
  {
   "cell_type": "code",
   "execution_count": 11,
   "metadata": {},
   "outputs": [
    {
     "name": "stdout",
     "output_type": "stream",
     "text": [
      "_________________________________________________________________\n",
      "Layer (type)                 Output Shape              Param #   \n",
      "=================================================================\n",
      "input_2 (InputLayer)         (None, 3072)              0         \n",
      "_________________________________________________________________\n",
      "dense_5 (Dense)              (None, 512)               1573376   \n",
      "_________________________________________________________________\n",
      "dense_6 (Dense)              (None, 256)               131328    \n",
      "_________________________________________________________________\n",
      "dense_7 (Dense)              (None, 128)               32896     \n",
      "_________________________________________________________________\n",
      "dense_8 (Dense)              (None, 10)                1290      \n",
      "=================================================================\n",
      "Total params: 1,738,890\n",
      "Trainable params: 1,738,890\n",
      "Non-trainable params: 0\n",
      "_________________________________________________________________\n"
     ]
    }
   ],
   "source": [
    "\"\"\"\n",
    "Compile 模型\n",
    "\"\"\"\n",
    "model = build_mlp()\n",
    "# 用 Keras 內建方法檢視模型各層參數量\n",
    "model.summary()\n",
    "\n",
    "optimizer = keras.optimizers.Adam(lr=0.001)\n",
    "model.compile(loss=\"categorical_crossentropy\", metrics=[\"accuracy\"], optimizer=optimizer)"
   ]
  },
  {
   "cell_type": "code",
   "execution_count": 12,
   "metadata": {
    "scrolled": true
   },
   "outputs": [
    {
     "name": "stdout",
     "output_type": "stream",
     "text": [
      "Train on 50000 samples, validate on 10000 samples\n",
      "Epoch 1/100\n",
      "50000/50000 [==============================] - 12s 236us/step - loss: 1.9568 - acc: 0.2963 - val_loss: 1.8232 - val_acc: 0.3325\n",
      "Epoch 2/100\n",
      "50000/50000 [==============================] - 11s 229us/step - loss: 1.7267 - acc: 0.3820 - val_loss: 1.7318 - val_acc: 0.3808\n",
      "Epoch 3/100\n",
      "50000/50000 [==============================] - 12s 231us/step - loss: 1.6315 - acc: 0.4173 - val_loss: 1.6073 - val_acc: 0.4200\n",
      "Epoch 4/100\n",
      "50000/50000 [==============================] - 12s 237us/step - loss: 1.5605 - acc: 0.4439 - val_loss: 1.5478 - val_acc: 0.4511\n",
      "Epoch 5/100\n",
      "50000/50000 [==============================] - 12s 244us/step - loss: 1.5153 - acc: 0.4592 - val_loss: 1.5192 - val_acc: 0.4558\n",
      "Epoch 6/100\n",
      "50000/50000 [==============================] - 13s 256us/step - loss: 1.4770 - acc: 0.4730 - val_loss: 1.4808 - val_acc: 0.4711\n",
      "Epoch 7/100\n",
      "50000/50000 [==============================] - 14s 285us/step - loss: 1.4387 - acc: 0.4865 - val_loss: 1.4512 - val_acc: 0.4863\n",
      "Epoch 8/100\n",
      "50000/50000 [==============================] - 13s 269us/step - loss: 1.4202 - acc: 0.4926 - val_loss: 1.4734 - val_acc: 0.4759\n",
      "Epoch 9/100\n",
      "50000/50000 [==============================] - 12s 243us/step - loss: 1.3844 - acc: 0.5047 - val_loss: 1.4584 - val_acc: 0.4820\n",
      "Epoch 10/100\n",
      "50000/50000 [==============================] - 11s 228us/step - loss: 1.3588 - acc: 0.5147 - val_loss: 1.4598 - val_acc: 0.4886\n",
      "Epoch 11/100\n",
      "50000/50000 [==============================] - 12s 230us/step - loss: 1.3421 - acc: 0.5208 - val_loss: 1.4197 - val_acc: 0.4934\n",
      "Epoch 12/100\n",
      "50000/50000 [==============================] - 12s 238us/step - loss: 1.3085 - acc: 0.5318 - val_loss: 1.4367 - val_acc: 0.4888\n",
      "Epoch 13/100\n",
      "50000/50000 [==============================] - 11s 220us/step - loss: 1.2766 - acc: 0.5434 - val_loss: 1.3956 - val_acc: 0.5071\n",
      "Epoch 14/100\n",
      "50000/50000 [==============================] - 11s 224us/step - loss: 1.2560 - acc: 0.5526 - val_loss: 1.4600 - val_acc: 0.4847\n",
      "Epoch 15/100\n",
      "50000/50000 [==============================] - 11s 225us/step - loss: 1.2416 - acc: 0.5575 - val_loss: 1.3535 - val_acc: 0.5214\n",
      "Epoch 16/100\n",
      "50000/50000 [==============================] - 11s 222us/step - loss: 1.2132 - acc: 0.5657 - val_loss: 1.3818 - val_acc: 0.5164\n",
      "Epoch 17/100\n",
      "50000/50000 [==============================] - 11s 227us/step - loss: 1.1952 - acc: 0.5748 - val_loss: 1.4301 - val_acc: 0.5019\n",
      "Epoch 18/100\n",
      "50000/50000 [==============================] - 12s 235us/step - loss: 1.1857 - acc: 0.5771 - val_loss: 1.3591 - val_acc: 0.5218\n",
      "Epoch 19/100\n",
      "50000/50000 [==============================] - 12s 248us/step - loss: 1.1540 - acc: 0.5880 - val_loss: 1.3880 - val_acc: 0.5190\n",
      "Epoch 20/100\n",
      "50000/50000 [==============================] - 13s 269us/step - loss: 1.1374 - acc: 0.5974 - val_loss: 1.3650 - val_acc: 0.5272\n",
      "Epoch 21/100\n",
      "50000/50000 [==============================] - 18s 368us/step - loss: 1.1308 - acc: 0.5979 - val_loss: 1.3669 - val_acc: 0.5245\n",
      "Epoch 22/100\n",
      "50000/50000 [==============================] - 16s 320us/step - loss: 1.0980 - acc: 0.6081 - val_loss: 1.4156 - val_acc: 0.5093\n",
      "Epoch 23/100\n",
      "50000/50000 [==============================] - 16s 319us/step - loss: 1.0769 - acc: 0.6154 - val_loss: 1.3599 - val_acc: 0.5284\n",
      "Epoch 24/100\n",
      "50000/50000 [==============================] - 17s 338us/step - loss: 1.0562 - acc: 0.6238 - val_loss: 1.4061 - val_acc: 0.5215\n",
      "Epoch 25/100\n",
      "50000/50000 [==============================] - 16s 330us/step - loss: 1.0447 - acc: 0.6248 - val_loss: 1.4079 - val_acc: 0.5231\n",
      "Epoch 26/100\n",
      "50000/50000 [==============================] - 15s 300us/step - loss: 1.0322 - acc: 0.6315 - val_loss: 1.3763 - val_acc: 0.5299\n",
      "Epoch 27/100\n",
      "50000/50000 [==============================] - 13s 264us/step - loss: 0.9927 - acc: 0.6481 - val_loss: 1.3752 - val_acc: 0.5321\n",
      "Epoch 28/100\n",
      "50000/50000 [==============================] - 12s 235us/step - loss: 0.9848 - acc: 0.6494 - val_loss: 1.4223 - val_acc: 0.5256\n",
      "Epoch 29/100\n",
      "50000/50000 [==============================] - 11s 229us/step - loss: 0.9614 - acc: 0.6557 - val_loss: 1.4429 - val_acc: 0.5271\n",
      "Epoch 30/100\n",
      "50000/50000 [==============================] - 11s 224us/step - loss: 0.9570 - acc: 0.6598 - val_loss: 1.4469 - val_acc: 0.5227\n",
      "Epoch 31/100\n",
      "50000/50000 [==============================] - 11s 222us/step - loss: 0.9442 - acc: 0.6621 - val_loss: 1.4483 - val_acc: 0.5280\n",
      "Epoch 32/100\n",
      "50000/50000 [==============================] - 11s 216us/step - loss: 0.9249 - acc: 0.6688 - val_loss: 1.4503 - val_acc: 0.5254\n",
      "Epoch 33/100\n",
      "50000/50000 [==============================] - 11s 222us/step - loss: 0.9065 - acc: 0.6752 - val_loss: 1.4455 - val_acc: 0.5297\n",
      "Epoch 34/100\n",
      "50000/50000 [==============================] - 11s 212us/step - loss: 0.8825 - acc: 0.6828 - val_loss: 1.4776 - val_acc: 0.5296\n",
      "Epoch 35/100\n",
      "50000/50000 [==============================] - 11s 219us/step - loss: 0.8734 - acc: 0.6886 - val_loss: 1.5020 - val_acc: 0.5233\n",
      "Epoch 36/100\n",
      "50000/50000 [==============================] - 11s 224us/step - loss: 0.8566 - acc: 0.6932 - val_loss: 1.4731 - val_acc: 0.5360\n",
      "Epoch 37/100\n",
      "50000/50000 [==============================] - 11s 215us/step - loss: 0.8269 - acc: 0.7052 - val_loss: 1.4820 - val_acc: 0.5282\n",
      "Epoch 38/100\n",
      "50000/50000 [==============================] - 11s 217us/step - loss: 0.8153 - acc: 0.7084 - val_loss: 1.5406 - val_acc: 0.5253\n",
      "Epoch 39/100\n",
      "50000/50000 [==============================] - 11s 225us/step - loss: 0.8055 - acc: 0.7126 - val_loss: 1.5789 - val_acc: 0.5154\n",
      "Epoch 40/100\n",
      "50000/50000 [==============================] - 11s 229us/step - loss: 0.7973 - acc: 0.7152 - val_loss: 1.5560 - val_acc: 0.5257\n",
      "Epoch 41/100\n",
      "50000/50000 [==============================] - 11s 226us/step - loss: 0.7698 - acc: 0.7236 - val_loss: 1.5719 - val_acc: 0.5314\n",
      "Epoch 42/100\n",
      "50000/50000 [==============================] - 11s 229us/step - loss: 0.7579 - acc: 0.7301 - val_loss: 1.6223 - val_acc: 0.5195\n",
      "Epoch 43/100\n",
      "50000/50000 [==============================] - 11s 229us/step - loss: 0.7503 - acc: 0.7319 - val_loss: 1.7050 - val_acc: 0.5145\n",
      "Epoch 44/100\n",
      "50000/50000 [==============================] - 11s 228us/step - loss: 0.7320 - acc: 0.7383 - val_loss: 1.6310 - val_acc: 0.5245\n",
      "Epoch 45/100\n",
      "50000/50000 [==============================] - 11s 224us/step - loss: 0.7108 - acc: 0.7490 - val_loss: 1.6919 - val_acc: 0.5218\n",
      "Epoch 46/100\n",
      "50000/50000 [==============================] - 11s 229us/step - loss: 0.7058 - acc: 0.7488 - val_loss: 1.6760 - val_acc: 0.5237\n",
      "Epoch 47/100\n",
      "50000/50000 [==============================] - 11s 219us/step - loss: 0.6987 - acc: 0.7498 - val_loss: 1.7432 - val_acc: 0.5167\n",
      "Epoch 48/100\n",
      "50000/50000 [==============================] - 11s 219us/step - loss: 0.6719 - acc: 0.7617 - val_loss: 1.7405 - val_acc: 0.5152\n",
      "Epoch 49/100\n",
      "50000/50000 [==============================] - 11s 221us/step - loss: 0.6675 - acc: 0.7623 - val_loss: 1.7391 - val_acc: 0.5179\n",
      "Epoch 50/100\n",
      "50000/50000 [==============================] - 11s 229us/step - loss: 0.6456 - acc: 0.7711 - val_loss: 1.7612 - val_acc: 0.5150\n",
      "Epoch 51/100\n",
      "50000/50000 [==============================] - 11s 218us/step - loss: 0.6336 - acc: 0.7730 - val_loss: 1.7855 - val_acc: 0.5172\n",
      "Epoch 52/100\n",
      "50000/50000 [==============================] - 11s 224us/step - loss: 0.6308 - acc: 0.7740 - val_loss: 1.8789 - val_acc: 0.5065\n",
      "Epoch 53/100\n",
      "50000/50000 [==============================] - 11s 222us/step - loss: 0.6286 - acc: 0.7762 - val_loss: 1.8530 - val_acc: 0.5134\n",
      "Epoch 54/100\n",
      "50000/50000 [==============================] - 11s 223us/step - loss: 0.5946 - acc: 0.7894 - val_loss: 1.8703 - val_acc: 0.5197\n",
      "Epoch 55/100\n",
      "50000/50000 [==============================] - 11s 225us/step - loss: 0.5831 - acc: 0.7925 - val_loss: 1.9617 - val_acc: 0.5144\n",
      "Epoch 56/100\n",
      "50000/50000 [==============================] - 11s 218us/step - loss: 0.5778 - acc: 0.7939 - val_loss: 1.9189 - val_acc: 0.5177\n",
      "Epoch 57/100\n",
      "50000/50000 [==============================] - 11s 215us/step - loss: 0.5599 - acc: 0.8011 - val_loss: 1.9656 - val_acc: 0.5102\n",
      "Epoch 58/100\n"
     ]
    },
    {
     "name": "stdout",
     "output_type": "stream",
     "text": [
      "50000/50000 [==============================] - 11s 212us/step - loss: 0.5742 - acc: 0.7950 - val_loss: 2.0465 - val_acc: 0.5147\n",
      "Epoch 59/100\n",
      "50000/50000 [==============================] - 11s 215us/step - loss: 0.5537 - acc: 0.8025 - val_loss: 1.9996 - val_acc: 0.5145\n",
      "Epoch 60/100\n",
      "50000/50000 [==============================] - 11s 220us/step - loss: 0.5389 - acc: 0.8084 - val_loss: 2.0232 - val_acc: 0.5155\n",
      "Epoch 61/100\n",
      "50000/50000 [==============================] - 10s 208us/step - loss: 0.5117 - acc: 0.8173 - val_loss: 2.0635 - val_acc: 0.5092- acc: 0 - ETA: 2s - loss: 0.5015 -  - ETA: 1s - \n",
      "Epoch 62/100\n",
      "50000/50000 [==============================] - 11s 210us/step - loss: 0.5239 - acc: 0.8130 - val_loss: 2.0688 - val_acc: 0.5096\n",
      "Epoch 63/100\n",
      "50000/50000 [==============================] - 11s 211us/step - loss: 0.5021 - acc: 0.8208 - val_loss: 2.1326 - val_acc: 0.5155acc: 0.82\n",
      "Epoch 64/100\n",
      "50000/50000 [==============================] - 11s 212us/step - loss: 0.4880 - acc: 0.8254 - val_loss: 2.1441 - val_acc: 0.5055\n",
      "Epoch 65/100\n",
      "50000/50000 [==============================] - 11s 227us/step - loss: 0.4946 - acc: 0.8225 - val_loss: 2.1800 - val_acc: 0.5100\n",
      "Epoch 66/100\n",
      "50000/50000 [==============================] - 11s 214us/step - loss: 0.4900 - acc: 0.8257 - val_loss: 2.2077 - val_acc: 0.5106\n",
      "Epoch 67/100\n",
      "50000/50000 [==============================] - 10s 208us/step - loss: 0.4703 - acc: 0.8319 - val_loss: 2.2302 - val_acc: 0.5022\n",
      "Epoch 68/100\n",
      "50000/50000 [==============================] - 11s 215us/step - loss: 0.4724 - acc: 0.8296 - val_loss: 2.2001 - val_acc: 0.5108\n",
      "Epoch 69/100\n",
      "50000/50000 [==============================] - 11s 214us/step - loss: 0.4497 - acc: 0.8377 - val_loss: 2.2978 - val_acc: 0.5019\n",
      "Epoch 70/100\n",
      "50000/50000 [==============================] - 11s 214us/step - loss: 0.4467 - acc: 0.8394 - val_loss: 2.3076 - val_acc: 0.5125\n",
      "Epoch 71/100\n",
      "50000/50000 [==============================] - 11s 218us/step - loss: 0.4340 - acc: 0.8445 - val_loss: 2.4069 - val_acc: 0.4996\n",
      "Epoch 72/100\n",
      "50000/50000 [==============================] - 11s 210us/step - loss: 0.4440 - acc: 0.8410 - val_loss: 2.4305 - val_acc: 0.5052\n",
      "Epoch 73/100\n",
      "50000/50000 [==============================] - 11s 219us/step - loss: 0.4377 - acc: 0.8416 - val_loss: 2.4555 - val_acc: 0.5077\n",
      "Epoch 74/100\n",
      "50000/50000 [==============================] - 11s 213us/step - loss: 0.4083 - acc: 0.8535 - val_loss: 2.3519 - val_acc: 0.5039\n",
      "Epoch 75/100\n",
      "50000/50000 [==============================] - 11s 214us/step - loss: 0.4117 - acc: 0.8523 - val_loss: 2.4445 - val_acc: 0.5063\n",
      "Epoch 76/100\n",
      "50000/50000 [==============================] - 11s 221us/step - loss: 0.4057 - acc: 0.8541 - val_loss: 2.4609 - val_acc: 0.5098\n",
      "Epoch 77/100\n",
      "50000/50000 [==============================] - 11s 215us/step - loss: 0.4054 - acc: 0.8530 - val_loss: 2.4262 - val_acc: 0.5081\n",
      "Epoch 78/100\n",
      "50000/50000 [==============================] - 11s 218us/step - loss: 0.4019 - acc: 0.8563 - val_loss: 2.4676 - val_acc: 0.5064\n",
      "Epoch 79/100\n",
      "50000/50000 [==============================] - 11s 216us/step - loss: 0.3943 - acc: 0.8577 - val_loss: 2.5902 - val_acc: 0.5095s: 0.39\n",
      "Epoch 80/100\n",
      "50000/50000 [==============================] - 11s 211us/step - loss: 0.3926 - acc: 0.8573 - val_loss: 2.5562 - val_acc: 0.5025\n",
      "Epoch 81/100\n",
      "50000/50000 [==============================] - 11s 222us/step - loss: 0.3739 - acc: 0.8663 - val_loss: 2.6047 - val_acc: 0.5120\n",
      "Epoch 82/100\n",
      "50000/50000 [==============================] - 11s 211us/step - loss: 0.3696 - acc: 0.8677 - val_loss: 2.5528 - val_acc: 0.5138\n",
      "Epoch 83/100\n",
      "50000/50000 [==============================] - 10s 207us/step - loss: 0.3644 - acc: 0.8685 - val_loss: 2.6236 - val_acc: 0.5120\n",
      "Epoch 84/100\n",
      "50000/50000 [==============================] - 11s 220us/step - loss: 0.3650 - acc: 0.8687 - val_loss: 2.6555 - val_acc: 0.5065\n",
      "Epoch 85/100\n",
      "50000/50000 [==============================] - 10s 209us/step - loss: 0.3455 - acc: 0.8751 - val_loss: 2.6573 - val_acc: 0.5008\n",
      "Epoch 86/100\n",
      "50000/50000 [==============================] - 11s 215us/step - loss: 0.3465 - acc: 0.8762 - val_loss: 2.6981 - val_acc: 0.5058\n",
      "Epoch 87/100\n",
      "50000/50000 [==============================] - 11s 224us/step - loss: 0.3506 - acc: 0.8745 - val_loss: 2.7089 - val_acc: 0.5074\n",
      "Epoch 88/100\n",
      "50000/50000 [==============================] - 12s 235us/step - loss: 0.3553 - acc: 0.8722 - val_loss: 2.7120 - val_acc: 0.5036\n",
      "Epoch 89/100\n",
      "50000/50000 [==============================] - 11s 211us/step - loss: 0.3469 - acc: 0.8750 - val_loss: 2.7641 - val_acc: 0.5048- loss: 0.3407 - acc:  - ETA: 0s - loss: 0.3456 - acc\n",
      "Epoch 90/100\n",
      "50000/50000 [==============================] - 11s 216us/step - loss: 0.3286 - acc: 0.8801 - val_loss: 2.8088 - val_acc: 0.5020\n",
      "Epoch 91/100\n",
      "50000/50000 [==============================] - 10s 209us/step - loss: 0.3302 - acc: 0.8819 - val_loss: 2.8603 - val_acc: 0.5069\n",
      "Epoch 92/100\n",
      "50000/50000 [==============================] - 11s 213us/step - loss: 0.3315 - acc: 0.8805 - val_loss: 2.8396 - val_acc: 0.5079\n",
      "Epoch 93/100\n",
      "50000/50000 [==============================] - 11s 214us/step - loss: 0.3208 - acc: 0.8858 - val_loss: 2.9590 - val_acc: 0.5012\n",
      "Epoch 94/100\n",
      "50000/50000 [==============================] - 11s 213us/step - loss: 0.3086 - acc: 0.8896 - val_loss: 2.9433 - val_acc: 0.4908\n",
      "Epoch 95/100\n",
      "50000/50000 [==============================] - 11s 213us/step - loss: 0.3171 - acc: 0.8855 - val_loss: 2.8560 - val_acc: 0.5099\n",
      "Epoch 96/100\n",
      "50000/50000 [==============================] - 11s 214us/step - loss: 0.3120 - acc: 0.8888 - val_loss: 2.8055 - val_acc: 0.5065\n",
      "Epoch 97/100\n",
      "50000/50000 [==============================] - 10s 208us/step - loss: 0.3062 - acc: 0.8899 - val_loss: 2.9117 - val_acc: 0.4999- loss: 0.3024 - \n",
      "Epoch 98/100\n",
      "50000/50000 [==============================] - 11s 213us/step - loss: 0.2995 - acc: 0.8920 - val_loss: 2.9507 - val_acc: 0.4977\n",
      "Epoch 99/100\n",
      "50000/50000 [==============================] - 11s 216us/step - loss: 0.2848 - acc: 0.8978 - val_loss: 2.9832 - val_acc: 0.5100\n",
      "Epoch 100/100\n",
      "50000/50000 [==============================] - 11s 214us/step - loss: 0.2753 - acc: 0.9037 - val_loss: 3.0501 - val_acc: 0.5010\n"
     ]
    },
    {
     "data": {
      "text/plain": [
       "<keras.callbacks.History at 0xb4204d080>"
      ]
     },
     "execution_count": 12,
     "metadata": {},
     "output_type": "execute_result"
    }
   ],
   "source": [
    "\"\"\"\n",
    "設定要訓練的 Epoch 數\n",
    "\"\"\"\n",
    "model.fit(x_train, y_train, \n",
    "          epochs=100, \n",
    "          batch_size=256, \n",
    "          validation_data=(x_test, y_test), \n",
    "          shuffle=True)"
   ]
  },
  {
   "cell_type": "code",
   "execution_count": 13,
   "metadata": {},
   "outputs": [
    {
     "data": {
      "image/png": "[encoded data removed]",
      "text/plain": [
       "<matplotlib.figure.Figure at 0xb2ae43518>"
      ]
     },
     "metadata": {},
     "output_type": "display_data"
    },
    {
     "data": {
      "image/png": "[encoded data removed]",
      "text/plain": [
       "<matplotlib.figure.Figure at 0xb2b022fd0>"
      ]
     },
     "metadata": {},
     "output_type": "display_data"
    }
   ],
   "source": [
    "import matplotlib.pyplot as plt\n",
    "# 以視覺畫方式檢視訓練過程\n",
    "\n",
    "train_loss = model.history.history[\"loss\"]\n",
    "valid_loss = model.history.history[\"val_loss\"]\n",
    "\n",
    "train_acc = model.history.history[\"acc\"]\n",
    "valid_acc = model.history.history[\"val_acc\"]\n",
    "\n",
    "plt.plot(range(len(train_loss)), train_loss, label=\"train loss\")\n",
    "plt.plot(range(len(valid_loss)), valid_loss, label=\"valid loss\")\n",
    "plt.legend()\n",
    "plt.title(\"Loss\")\n",
    "plt.show()\n",
    "\n",
    "plt.plot(range(len(train_acc)), train_acc, label=\"train accuracy\")\n",
    "plt.plot(range(len(valid_acc)), valid_acc, label=\"valid accuracy\")\n",
    "plt.legend()\n",
    "plt.title(\"Accuracy\")\n",
    "plt.show()"
   ]
  },
  {
   "cell_type": "code",
   "execution_count": null,
   "metadata": {
    "collapsed": true
   },
   "outputs": [],
   "source": []
  }
 ],
 "metadata": {
  "kernelspec": {
   "display_name": "Python 3",
   "language": "python",
   "name": "python3"
  },
  "language_info": {
   "codemirror_mode": {
    "name": "ipython",
    "version": 3
   },
   "file_extension": ".py",
   "mimetype": "text/x-python",
   "name": "python",
   "nbconvert_exporter": "python",
   "pygments_lexer": "ipython3",
   "version": "3.6.7"
  },
  "toc": {
   "base_numbering": 1,
   "nav_menu": {},
   "number_sections": true,
   "sideBar": true,
   "skip_h1_title": false,
   "title_cell": "Table of Contents",
   "title_sidebar": "Contents",
   "toc_cell": false,
   "toc_position": {},
   "toc_section_display": true,
   "toc_window_display": false
  }
 },
 "nbformat": 4,
 "nbformat_minor": 2
}
