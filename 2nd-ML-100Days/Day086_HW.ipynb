{
 "cells": [
  {
   "cell_type": "markdown",
   "metadata": {},
   "source": [
    "## Work\n",
    "1. 試比較 save_best_only 與否的差異\n",
    "2. 請僅存入將 save_weights_only 設定為 True, 並嘗試 reset ipynb 並將模型與權重重新建回並預測 x_test"
   ]
  },
  {
   "cell_type": "code",
   "execution_count": 8,
   "metadata": {},
   "outputs": [],
   "source": [
    "import os\n",
    "import keras\n",
    "\n",
    "# Disable GPU\n",
    "os.environ[\"CUDA_VISIBLE_DEVICES\"] = \"\""
   ]
  },
  {
   "cell_type": "code",
   "execution_count": 9,
   "metadata": {
    "collapsed": true
   },
   "outputs": [],
   "source": [
    "train, test = keras.datasets.cifar10.load_data()"
   ]
  },
  {
   "cell_type": "code",
   "execution_count": 10,
   "metadata": {
    "collapsed": true
   },
   "outputs": [],
   "source": [
    "## 資料前處理\n",
    "def preproc_x(x, flatten=True):\n",
    "    x = x / 255.\n",
    "    if flatten:\n",
    "        x = x.reshape((len(x), -1))\n",
    "    return x\n",
    "\n",
    "def preproc_y(y, num_classes=10):\n",
    "    if y.shape[-1] == 1:\n",
    "        y = keras.utils.to_categorical(y, num_classes)\n",
    "    return y    "
   ]
  },
  {
   "cell_type": "code",
   "execution_count": 11,
   "metadata": {
    "collapsed": true
   },
   "outputs": [],
   "source": [
    "x_train, y_train = train\n",
    "x_test, y_test = test\n",
    "\n",
    "# Preproc the inputs\n",
    "x_train = preproc_x(x_train)\n",
    "x_test = preproc_x(x_test)\n",
    "\n",
    "# Preprc the outputs\n",
    "y_train = preproc_y(y_train)\n",
    "y_test = preproc_y(y_test)"
   ]
  },
  {
   "cell_type": "code",
   "execution_count": 12,
   "metadata": {
    "collapsed": true
   },
   "outputs": [],
   "source": [
    "from keras.layers import BatchNormalization\n",
    "\n",
    "\"\"\"\n",
    "建立神經網路，並加入 BN layer\n",
    "\"\"\"\n",
    "def build_mlp(input_shape, output_units=10, num_neurons=[512, 256, 128]):\n",
    "    input_layer = keras.layers.Input(input_shape)\n",
    "    \n",
    "    for i, n_units in enumerate(num_neurons):\n",
    "        if i == 0:\n",
    "            x = keras.layers.Dense(units=n_units, \n",
    "                                   activation=\"relu\", \n",
    "                                   name=\"hidden_layer\"+str(i+1))(input_layer)\n",
    "            x = BatchNormalization()(x)\n",
    "        else:\n",
    "            x = keras.layers.Dense(units=n_units, \n",
    "                                   activation=\"relu\", \n",
    "                                   name=\"hidden_layer\"+str(i+1))(x)\n",
    "            x = BatchNormalization()(x)\n",
    "    \n",
    "    out = keras.layers.Dense(units=output_units, activation=\"softmax\", name=\"output\")(x)\n",
    "    \n",
    "    model = keras.models.Model(inputs=[input_layer], outputs=[out])\n",
    "    return model"
   ]
  },
  {
   "cell_type": "code",
   "execution_count": 13,
   "metadata": {
    "collapsed": true
   },
   "outputs": [],
   "source": [
    "\"\"\"Code Here\n",
    "設定超參數\n",
    "\"\"\"\n",
    "LEARNING_RATE = 1e-3\n",
    "EPOCHS = 50\n",
    "BATCH_SIZE = 1024\n",
    "MOMENTUM = 0.95"
   ]
  },
  {
   "cell_type": "code",
   "execution_count": 15,
   "metadata": {},
   "outputs": [
    {
     "name": "stdout",
     "output_type": "stream",
     "text": [
      "_________________________________________________________________\n",
      "Layer (type)                 Output Shape              Param #   \n",
      "=================================================================\n",
      "input_3 (InputLayer)         (None, 3072)              0         \n",
      "_________________________________________________________________\n",
      "hidden_layer1 (Dense)        (None, 512)               1573376   \n",
      "_________________________________________________________________\n",
      "batch_normalization_7 (Batch (None, 512)               2048      \n",
      "_________________________________________________________________\n",
      "hidden_layer2 (Dense)        (None, 256)               131328    \n",
      "_________________________________________________________________\n",
      "batch_normalization_8 (Batch (None, 256)               1024      \n",
      "_________________________________________________________________\n",
      "hidden_layer3 (Dense)        (None, 128)               32896     \n",
      "_________________________________________________________________\n",
      "batch_normalization_9 (Batch (None, 128)               512       \n",
      "_________________________________________________________________\n",
      "output (Dense)               (None, 10)                1290      \n",
      "=================================================================\n",
      "Total params: 1,742,474\n",
      "Trainable params: 1,740,682\n",
      "Non-trainable params: 1,792\n",
      "_________________________________________________________________\n",
      "Train on 50000 samples, validate on 10000 samples\n",
      "Epoch 1/50\n",
      "50000/50000 [==============================] - 10s 197us/step - loss: 2.2291 - acc: 0.2708 - val_loss: 2.0447 - val_acc: 0.3377\n",
      "Epoch 2/50\n",
      "50000/50000 [==============================] - 8s 164us/step - loss: 1.7470 - acc: 0.3944 - val_loss: 1.8193 - val_acc: 0.3794\n",
      "Epoch 3/50\n",
      "50000/50000 [==============================] - 11s 213us/step - loss: 1.6207 - acc: 0.4356 - val_loss: 1.6943 - val_acc: 0.4108\n",
      "Epoch 4/50\n",
      "50000/50000 [==============================] - 10s 209us/step - loss: 1.5465 - acc: 0.4602 - val_loss: 1.6304 - val_acc: 0.4356\n",
      "Epoch 5/50\n",
      "50000/50000 [==============================] - 10s 209us/step - loss: 1.4898 - acc: 0.4815 - val_loss: 1.6055 - val_acc: 0.4407\n",
      "Epoch 6/50\n",
      "50000/50000 [==============================] - 12s 240us/step - loss: 1.4434 - acc: 0.4953 - val_loss: 1.5700 - val_acc: 0.4495\n",
      "Epoch 7/50\n",
      "50000/50000 [==============================] - 10s 191us/step - loss: 1.4018 - acc: 0.5124 - val_loss: 1.5497 - val_acc: 0.4583\n",
      "Epoch 8/50\n",
      "50000/50000 [==============================] - 9s 173us/step - loss: 1.3678 - acc: 0.5245 - val_loss: 1.5450 - val_acc: 0.4614\n",
      "Epoch 9/50\n",
      "50000/50000 [==============================] - 10s 191us/step - loss: 1.3322 - acc: 0.5385 - val_loss: 1.5178 - val_acc: 0.4741\n",
      "Epoch 10/50\n",
      "50000/50000 [==============================] - 9s 190us/step - loss: 1.3034 - acc: 0.5472 - val_loss: 1.5055 - val_acc: 0.4724\n",
      "Epoch 11/50\n",
      "50000/50000 [==============================] - 9s 174us/step - loss: 1.2756 - acc: 0.5569 - val_loss: 1.4905 - val_acc: 0.4790\n",
      "Epoch 12/50\n",
      "50000/50000 [==============================] - 8s 166us/step - loss: 1.2467 - acc: 0.5690 - val_loss: 1.4885 - val_acc: 0.4747\n",
      "Epoch 13/50\n",
      "50000/50000 [==============================] - 9s 177us/step - loss: 1.2220 - acc: 0.5771 - val_loss: 1.4816 - val_acc: 0.4816\n",
      "Epoch 14/50\n",
      "50000/50000 [==============================] - 8s 167us/step - loss: 1.1950 - acc: 0.5887 - val_loss: 1.4778 - val_acc: 0.4830\n",
      "Epoch 15/50\n",
      "50000/50000 [==============================] - 8s 164us/step - loss: 1.1718 - acc: 0.5978 - val_loss: 1.4872 - val_acc: 0.4814\n",
      "Epoch 16/50\n",
      "50000/50000 [==============================] - 10s 204us/step - loss: 1.1480 - acc: 0.6065 - val_loss: 1.4677 - val_acc: 0.4906\n",
      "Epoch 17/50\n",
      "50000/50000 [==============================] - 10s 192us/step - loss: 1.1242 - acc: 0.6165 - val_loss: 1.4626 - val_acc: 0.4909\n",
      "Epoch 18/50\n",
      "50000/50000 [==============================] - 8s 167us/step - loss: 1.1015 - acc: 0.6235 - val_loss: 1.4627 - val_acc: 0.4900\n",
      "Epoch 19/50\n",
      "50000/50000 [==============================] - 9s 186us/step - loss: 1.0784 - acc: 0.6325 - val_loss: 1.4586 - val_acc: 0.4941\n",
      "Epoch 20/50\n",
      "50000/50000 [==============================] - 11s 220us/step - loss: 1.0578 - acc: 0.6411 - val_loss: 1.4667 - val_acc: 0.4904\n",
      "Epoch 21/50\n",
      "50000/50000 [==============================] - 11s 224us/step - loss: 1.0348 - acc: 0.6501 - val_loss: 1.4670 - val_acc: 0.4925\n",
      "Epoch 22/50\n",
      "50000/50000 [==============================] - 9s 190us/step - loss: 1.0128 - acc: 0.6577 - val_loss: 1.4708 - val_acc: 0.4921\n",
      "Epoch 23/50\n",
      "50000/50000 [==============================] - 9s 180us/step - loss: 0.9922 - acc: 0.6667 - val_loss: 1.4626 - val_acc: 0.4889\n",
      "Epoch 24/50\n",
      "50000/50000 [==============================] - 10s 210us/step - loss: 0.9702 - acc: 0.6763 - val_loss: 1.4718 - val_acc: 0.4991\n",
      "Epoch 25/50\n",
      "50000/50000 [==============================] - 8s 169us/step - loss: 0.9517 - acc: 0.6832 - val_loss: 1.4837 - val_acc: 0.4933\n",
      "Epoch 26/50\n",
      "50000/50000 [==============================] - 8s 167us/step - loss: 0.9301 - acc: 0.6902 - val_loss: 1.4800 - val_acc: 0.4924\n",
      "Epoch 27/50\n",
      "50000/50000 [==============================] - 8s 166us/step - loss: 0.9097 - acc: 0.6977 - val_loss: 1.4796 - val_acc: 0.4936\n",
      "Epoch 28/50\n",
      "50000/50000 [==============================] - 8s 163us/step - loss: 0.8898 - acc: 0.7054 - val_loss: 1.4993 - val_acc: 0.4908\n",
      "Epoch 29/50\n",
      "50000/50000 [==============================] - 9s 188us/step - loss: 0.8684 - acc: 0.7150 - val_loss: 1.4831 - val_acc: 0.4984\n",
      "Epoch 30/50\n",
      "50000/50000 [==============================] - 9s 183us/step - loss: 0.8485 - acc: 0.7229 - val_loss: 1.5053 - val_acc: 0.4943\n",
      "Epoch 31/50\n",
      "50000/50000 [==============================] - 10s 195us/step - loss: 0.8305 - acc: 0.7305 - val_loss: 1.5065 - val_acc: 0.4968\n",
      "Epoch 32/50\n",
      "50000/50000 [==============================] - 10s 193us/step - loss: 0.8075 - acc: 0.7399 - val_loss: 1.5037 - val_acc: 0.5006\n",
      "Epoch 33/50\n",
      "50000/50000 [==============================] - 10s 193us/step - loss: 0.7891 - acc: 0.7445 - val_loss: 1.5103 - val_acc: 0.4946\n",
      "Epoch 34/50\n",
      "50000/50000 [==============================] - 9s 187us/step - loss: 0.7711 - acc: 0.7529 - val_loss: 1.5345 - val_acc: 0.4889\n",
      "Epoch 35/50\n",
      "50000/50000 [==============================] - 8s 165us/step - loss: 0.7523 - acc: 0.7606 - val_loss: 1.5407 - val_acc: 0.4908\n",
      "Epoch 36/50\n",
      "50000/50000 [==============================] - 8s 163us/step - loss: 0.7317 - acc: 0.7691 - val_loss: 1.5494 - val_acc: 0.4880\n",
      "Epoch 37/50\n",
      "50000/50000 [==============================] - 9s 172us/step - loss: 0.7144 - acc: 0.7747 - val_loss: 1.5500 - val_acc: 0.4926\n",
      "Epoch 38/50\n",
      "50000/50000 [==============================] - 10s 194us/step - loss: 0.6950 - acc: 0.7825 - val_loss: 1.5639 - val_acc: 0.4904\n",
      "Epoch 39/50\n",
      "50000/50000 [==============================] - 9s 174us/step - loss: 0.6776 - acc: 0.7905 - val_loss: 1.5640 - val_acc: 0.4937\n",
      "Epoch 40/50\n",
      "50000/50000 [==============================] - 8s 170us/step - loss: 0.6594 - acc: 0.7969 - val_loss: 1.5761 - val_acc: 0.4942\n",
      "Epoch 41/50\n",
      "50000/50000 [==============================] - 8s 168us/step - loss: 0.6416 - acc: 0.8035 - val_loss: 1.5814 - val_acc: 0.4970\n",
      "Epoch 42/50\n",
      "50000/50000 [==============================] - 9s 171us/step - loss: 0.6228 - acc: 0.8105 - val_loss: 1.5998 - val_acc: 0.4909\n",
      "Epoch 43/50\n",
      "50000/50000 [==============================] - 9s 173us/step - loss: 0.6039 - acc: 0.8186 - val_loss: 1.6109 - val_acc: 0.4956\n",
      "Epoch 44/50\n",
      "50000/50000 [==============================] - 9s 174us/step - loss: 0.5890 - acc: 0.8245 - val_loss: 1.6273 - val_acc: 0.4920\n",
      "Epoch 45/50\n",
      "50000/50000 [==============================] - 8s 170us/step - loss: 0.5702 - acc: 0.8322 - val_loss: 1.6514 - val_acc: 0.4869\n",
      "Epoch 46/50\n",
      "50000/50000 [==============================] - 8s 166us/step - loss: 0.5540 - acc: 0.8378 - val_loss: 1.6545 - val_acc: 0.4873\n",
      "Epoch 47/50\n",
      "50000/50000 [==============================] - 12s 240us/step - loss: 0.5366 - acc: 0.8442 - val_loss: 1.6711 - val_acc: 0.4829\n",
      "Epoch 48/50\n",
      "50000/50000 [==============================] - 9s 186us/step - loss: 0.5208 - acc: 0.8503 - val_loss: 1.6912 - val_acc: 0.4853\n",
      "Epoch 49/50\n"
     ]
    },
    {
     "name": "stdout",
     "output_type": "stream",
     "text": [
      "50000/50000 [==============================] - 9s 174us/step - loss: 0.5039 - acc: 0.8572 - val_loss: 1.6826 - val_acc: 0.4905\n",
      "Epoch 50/50\n",
      "50000/50000 [==============================] - 9s 181us/step - loss: 0.4857 - acc: 0.8649 - val_loss: 1.6994 - val_acc: 0.4850\n"
     ]
    },
    {
     "ename": "ValueError",
     "evalue": "No model found in config file.",
     "output_type": "error",
     "traceback": [
      "\u001b[0;31m---------------------------------------------------------------------------\u001b[0m",
      "\u001b[0;31mValueError\u001b[0m                                Traceback (most recent call last)",
      "\u001b[0;32m<ipython-input-15-434bab166e62>\u001b[0m in \u001b[0;36m<module>\u001b[0;34m()\u001b[0m\n\u001b[1;32m     34\u001b[0m \u001b[0;34m\u001b[0m\u001b[0m\n\u001b[1;32m     35\u001b[0m \u001b[0;31m# Load back\u001b[0m\u001b[0;34m\u001b[0m\u001b[0;34m\u001b[0m\u001b[0;34m\u001b[0m\u001b[0m\n\u001b[0;32m---> 36\u001b[0;31m \u001b[0mmodel\u001b[0m \u001b[0;34m=\u001b[0m \u001b[0mkeras\u001b[0m\u001b[0;34m.\u001b[0m\u001b[0mmodels\u001b[0m\u001b[0;34m.\u001b[0m\u001b[0mload_model\u001b[0m\u001b[0;34m(\u001b[0m\u001b[0;34m\"./tmp.h5\"\u001b[0m\u001b[0;34m)\u001b[0m\u001b[0;34m\u001b[0m\u001b[0;34m\u001b[0m\u001b[0m\n\u001b[0m\u001b[1;32m     37\u001b[0m \u001b[0mloss_loadback\u001b[0m\u001b[0;34m,\u001b[0m \u001b[0macc_loadback\u001b[0m \u001b[0;34m=\u001b[0m \u001b[0mmodel\u001b[0m\u001b[0;34m.\u001b[0m\u001b[0mevaluate\u001b[0m\u001b[0;34m(\u001b[0m\u001b[0mx_test\u001b[0m\u001b[0;34m,\u001b[0m \u001b[0my_test\u001b[0m\u001b[0;34m)\u001b[0m\u001b[0;34m\u001b[0m\u001b[0;34m\u001b[0m\u001b[0m\n",
      "\u001b[0;32m~/anaconda3/lib/python3.6/site-packages/keras/models.py\u001b[0m in \u001b[0;36mload_model\u001b[0;34m(filepath, custom_objects, compile)\u001b[0m\n\u001b[1;32m    266\u001b[0m         \u001b[0mmodel_config\u001b[0m \u001b[0;34m=\u001b[0m \u001b[0mf\u001b[0m\u001b[0;34m.\u001b[0m\u001b[0mattrs\u001b[0m\u001b[0;34m.\u001b[0m\u001b[0mget\u001b[0m\u001b[0;34m(\u001b[0m\u001b[0;34m'model_config'\u001b[0m\u001b[0;34m)\u001b[0m\u001b[0;34m\u001b[0m\u001b[0;34m\u001b[0m\u001b[0m\n\u001b[1;32m    267\u001b[0m         \u001b[0;32mif\u001b[0m \u001b[0mmodel_config\u001b[0m \u001b[0;32mis\u001b[0m \u001b[0;32mNone\u001b[0m\u001b[0;34m:\u001b[0m\u001b[0;34m\u001b[0m\u001b[0;34m\u001b[0m\u001b[0m\n\u001b[0;32m--> 268\u001b[0;31m             \u001b[0;32mraise\u001b[0m \u001b[0mValueError\u001b[0m\u001b[0;34m(\u001b[0m\u001b[0;34m'No model found in config file.'\u001b[0m\u001b[0;34m)\u001b[0m\u001b[0;34m\u001b[0m\u001b[0;34m\u001b[0m\u001b[0m\n\u001b[0m\u001b[1;32m    269\u001b[0m         \u001b[0mmodel_config\u001b[0m \u001b[0;34m=\u001b[0m \u001b[0mjson\u001b[0m\u001b[0;34m.\u001b[0m\u001b[0mloads\u001b[0m\u001b[0;34m(\u001b[0m\u001b[0mmodel_config\u001b[0m\u001b[0;34m.\u001b[0m\u001b[0mdecode\u001b[0m\u001b[0;34m(\u001b[0m\u001b[0;34m'utf-8'\u001b[0m\u001b[0;34m)\u001b[0m\u001b[0;34m)\u001b[0m\u001b[0;34m\u001b[0m\u001b[0;34m\u001b[0m\u001b[0m\n\u001b[1;32m    270\u001b[0m         \u001b[0mmodel\u001b[0m \u001b[0;34m=\u001b[0m \u001b[0mmodel_from_config\u001b[0m\u001b[0;34m(\u001b[0m\u001b[0mmodel_config\u001b[0m\u001b[0;34m,\u001b[0m \u001b[0mcustom_objects\u001b[0m\u001b[0;34m=\u001b[0m\u001b[0mcustom_objects\u001b[0m\u001b[0;34m)\u001b[0m\u001b[0;34m\u001b[0m\u001b[0;34m\u001b[0m\u001b[0m\n",
      "\u001b[0;31mValueError\u001b[0m: No model found in config file."
     ]
    }
   ],
   "source": [
    "# 載入 Callbacks\n",
    "\"\"\"Code Here\n",
    "設定 callbacks: model checkpoint\n",
    "\"\"\"\n",
    "from keras.callbacks import ModelCheckpoint\n",
    "\n",
    "model_ckpt = ModelCheckpoint(filepath=\"./tmp.h5\", \n",
    "                             monitor=\"val_loss\",\n",
    "                             save_best_only=False,\n",
    "                             save_weights_only=True)\n",
    "\n",
    "results = {}\n",
    "\"\"\"Code Here\n",
    "撰寫你的訓練流程並將結果用 dictionary 紀錄\n",
    "\"\"\"\n",
    "model = build_mlp(input_shape=x_train.shape[1:])\n",
    "model.summary()\n",
    "optimizer = keras.optimizers.SGD(lr=LEARNING_RATE, nesterov=True, momentum=MOMENTUM)\n",
    "model.compile(loss=\"categorical_crossentropy\", metrics=[\"accuracy\"], optimizer=optimizer)\n",
    "\n",
    "model.fit(x_train, y_train, \n",
    "          epochs=EPOCHS, \n",
    "          batch_size=BATCH_SIZE, \n",
    "          validation_data=(x_test, y_test), \n",
    "          shuffle=True,\n",
    "          callbacks=[model_ckpt]\n",
    "         )\n",
    "\n",
    "# Collect results\n",
    "train_loss = model.history.history[\"loss\"]\n",
    "valid_loss = model.history.history[\"val_loss\"]\n",
    "train_acc = model.history.history[\"acc\"]\n",
    "valid_acc = model.history.history[\"val_acc\"]\n",
    "\n",
    "# Load back\n",
    "model = keras.models.load_model(\"./tmp.h5\")\n",
    "loss_loadback, acc_loadback = model.evaluate(x_test, y_test)"
   ]
  },
  {
   "cell_type": "code",
   "execution_count": null,
   "metadata": {
    "collapsed": true,
    "scrolled": true
   },
   "outputs": [],
   "source": [
    "import matplotlib.pyplot as plt\n",
    "%matplotlib inline\n",
    "\"\"\"Code Here\n",
    "將結果繪出\n",
    "\"\"\"\n",
    "import matplotlib.pyplot as plt\n",
    "%matplotlib inline\n",
    "\n",
    "plt.plot(range(len(train_loss)), train_loss, label=\"train loss\")\n",
    "plt.plot(range(len(valid_loss)), valid_loss, label=\"valid loss\")\n",
    "plt.hlines(y=loss_loadback, xmin=0, xmax=len(train_loss), colors='r', linestyles='--')\n",
    "plt.legend()\n",
    "plt.title(\"Loss\")\n",
    "plt.show()\n",
    "\n",
    "plt.plot(range(len(train_acc)), train_acc, label=\"train accuracy\")\n",
    "plt.plot(range(len(valid_acc)), valid_acc, label=\"valid accuracy\")\n",
    "plt.hlines(y=acc_loadback, xmin=0, xmax=len(train_loss), colors='r', linestyles='--')\n",
    "plt.legend()\n",
    "plt.title(\"Accuracy\")\n",
    "plt.show()"
   ]
  },
  {
   "cell_type": "code",
   "execution_count": null,
   "metadata": {
    "collapsed": true
   },
   "outputs": [],
   "source": []
  }
 ],
 "metadata": {
  "kernelspec": {
   "display_name": "Python 3",
   "language": "python",
   "name": "python3"
  },
  "language_info": {
   "codemirror_mode": {
    "name": "ipython",
    "version": 3
   },
   "file_extension": ".py",
   "mimetype": "text/x-python",
   "name": "python",
   "nbconvert_exporter": "python",
   "pygments_lexer": "ipython3",
   "version": "3.6.7"
  },
  "toc": {
   "base_numbering": 1,
   "nav_menu": {},
   "number_sections": true,
   "sideBar": true,
   "skip_h1_title": false,
   "title_cell": "Table of Contents",
   "title_sidebar": "Contents",
   "toc_cell": false,
   "toc_position": {},
   "toc_section_display": true,
   "toc_window_display": false
  }
 },
 "nbformat": 4,
 "nbformat_minor": 2
}
